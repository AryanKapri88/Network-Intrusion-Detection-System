{
 "cells": [
  {
   "cell_type": "markdown",
   "id": "a3b6b9ea",
   "metadata": {
    "papermill": {
     "duration": 0.021219,
     "end_time": "2022-05-31T12:08:04.623099",
     "exception": false,
     "start_time": "2022-05-31T12:08:04.601880",
     "status": "completed"
    },
    "tags": []
   },
   "source": [
    "## Import libraries"
   ]
  },
  {
   "cell_type": "code",
   "execution_count": 1,
   "id": "65af3815",
   "metadata": {
    "execution": {
     "iopub.execute_input": "2022-05-31T12:08:04.665864Z",
     "iopub.status.busy": "2022-05-31T12:08:04.665110Z",
     "iopub.status.idle": "2022-05-31T12:08:04.679239Z",
     "shell.execute_reply": "2022-05-31T12:08:04.678416Z"
    },
    "papermill": {
     "duration": 0.038857,
     "end_time": "2022-05-31T12:08:04.682058",
     "exception": false,
     "start_time": "2022-05-31T12:08:04.643201",
     "status": "completed"
    },
    "tags": []
   },
   "outputs": [],
   "source": [
    "import warnings\n",
    "warnings.filterwarnings(\"ignore\")"
   ]
  },
  {
   "cell_type": "code",
   "execution_count": 2,
   "id": "fa26cecb",
   "metadata": {
    "collapsed": false,
    "execution": {
     "iopub.execute_input": "2022-05-31T12:08:04.726168Z",
     "iopub.status.busy": "2022-05-31T12:08:04.725723Z",
     "iopub.status.idle": "2022-05-31T12:08:06.751804Z",
     "shell.execute_reply": "2022-05-31T12:08:06.750611Z"
    },
    "jupyter": {
     "outputs_hidden": false
    },
    "papermill": {
     "duration": 2.05234,
     "end_time": "2022-05-31T12:08:06.755338",
     "exception": false,
     "start_time": "2022-05-31T12:08:04.702998",
     "status": "completed"
    },
    "tags": []
   },
   "outputs": [],
   "source": [
    "import numpy as np\n",
    "import pandas as pd\n",
    "import seaborn as sns\n",
    "import matplotlib.pyplot as plt\n",
    "from sklearn.preprocessing import LabelEncoder\n",
    "from sklearn.impute import SimpleImputer as Imputer\n",
    "from sklearn.model_selection import train_test_split\n",
    "from sklearn.metrics import classification_report,confusion_matrix,accuracy_score,precision_recall_fscore_support\n",
    "from sklearn.metrics import f1_score\n",
    "from sklearn.ensemble import RandomForestClassifier,ExtraTreesClassifier\n",
    "from sklearn.tree import DecisionTreeClassifier\n",
    "from sklearn.neighbors import KNeighborsClassifier\n",
    "from sklearn import svm\n",
    "import xgboost as xgb\n",
    "from xgboost import plot_importance\n",
    "import time"
   ]
  },
  {
   "cell_type": "markdown",
   "id": "0e5a1a1b",
   "metadata": {
    "papermill": {
     "duration": 0.018703,
     "end_time": "2022-05-31T12:08:06.798065",
     "exception": false,
     "start_time": "2022-05-31T12:08:06.779362",
     "status": "completed"
    },
    "tags": []
   },
   "source": [
    "### Preprocessing (normalization and padding values)"
   ]
  },
  {
   "cell_type": "code",
   "execution_count": 3,
   "id": "bb1fd743",
   "metadata": {
    "execution": {
     "iopub.execute_input": "2022-05-31T12:08:06.841947Z",
     "iopub.status.busy": "2022-05-31T12:08:06.840689Z",
     "iopub.status.idle": "2022-05-31T12:08:06.858646Z",
     "shell.execute_reply": "2022-05-31T12:08:06.857472Z"
    },
    "papermill": {
     "duration": 0.042505,
     "end_time": "2022-05-31T12:08:06.861782",
     "exception": false,
     "start_time": "2022-05-31T12:08:06.819277",
     "status": "completed"
    },
    "tags": []
   },
   "outputs": [],
   "source": [
    "def data_processing():\n",
    "    path = '../input/CICIDS2017sampled/CICIDS2017_sample.csv'\n",
    "#     '../input/cicids2017-full-modified-all-8-files/combinenew.csv'\n",
    "    df = pd.read_csv(path, skipinitialspace=True, low_memory=False)\n",
    "    df.drop([len(df)-1],inplace=True)\n",
    "    \n",
    "    # 将主要的攻击类型分类\n",
    "    df['Label'] = df['Label'].replace('DoS Hulk', 'DoS')\n",
    "    df['Label'] = df['Label'].replace('DDoS', 'DoS')\n",
    "    df['Label'] = df['Label'].replace('DoS GoldenEye', 'DoS')\n",
    "    df['Label'] = df['Label'].replace('DoS slowloris', 'DoS')\n",
    "    df['Label'] = df['Label'].replace('DoS Slowhttptest', 'DoS')\n",
    "    df['Label'] = df['Label'].replace('Heartbleed', 'DoS')\n",
    "\n",
    "    df['Label'] = df['Label'].replace('Web Attack_Brute Force', 'WebAttack')\n",
    "    df['Label'] = df['Label'].replace('Web Attack_XSS', 'WebAttack')\n",
    "    df['Label'] = df['Label'].replace('Web Attack_Sql Injection', 'WebAttack')\n",
    "\n",
    "    df['Label'] = df['Label'].replace('FTP-Patator', 'BruteForce')\n",
    "    df['Label'] = df['Label'].replace('SSH-Patator', 'BruteForce')\n",
    "    \n",
    "    # Min-max normalization\n",
    "    numeric_features = df.dtypes[df.dtypes != 'object'].index\n",
    "    df[numeric_features] = df[numeric_features].apply(\n",
    "        lambda x: (x - x.min()) / (x.max()-x.min()))\n",
    "    # Fill empty values by 0\n",
    "    df = df.fillna(0)\n",
    "    \n",
    "    return df"
   ]
  },
  {
   "cell_type": "code",
   "execution_count": 4,
   "id": "3356bbac",
   "metadata": {
    "execution": {
     "iopub.execute_input": "2022-05-31T12:08:06.901658Z",
     "iopub.status.busy": "2022-05-31T12:08:06.900818Z",
     "iopub.status.idle": "2022-05-31T12:08:08.858479Z",
     "shell.execute_reply": "2022-05-31T12:08:08.857244Z"
    },
    "papermill": {
     "duration": 1.98118,
     "end_time": "2022-05-31T12:08:08.861397",
     "exception": false,
     "start_time": "2022-05-31T12:08:06.880217",
     "status": "completed"
    },
    "tags": []
   },
   "outputs": [],
   "source": [
    "df = data_processing()"
   ]
  },
  {
   "cell_type": "code",
   "execution_count": 5,
   "id": "e482e83f",
   "metadata": {
    "execution": {
     "iopub.execute_input": "2022-05-31T12:08:08.900632Z",
     "iopub.status.busy": "2022-05-31T12:08:08.899936Z",
     "iopub.status.idle": "2022-05-31T12:08:08.959550Z",
     "shell.execute_reply": "2022-05-31T12:08:08.958354Z"
    },
    "papermill": {
     "duration": 0.082847,
     "end_time": "2022-05-31T12:08:08.963023",
     "exception": false,
     "start_time": "2022-05-31T12:08:08.880176",
     "status": "completed"
    },
    "tags": []
   },
   "outputs": [
    {
     "data": {
      "text/html": [
       "<div>\n",
       "<style scoped>\n",
       "    .dataframe tbody tr th:only-of-type {\n",
       "        vertical-align: middle;\n",
       "    }\n",
       "\n",
       "    .dataframe tbody tr th {\n",
       "        vertical-align: top;\n",
       "    }\n",
       "\n",
       "    .dataframe thead th {\n",
       "        text-align: right;\n",
       "    }\n",
       "</style>\n",
       "<table border=\"1\" class=\"dataframe\">\n",
       "  <thead>\n",
       "    <tr style=\"text-align: right;\">\n",
       "      <th></th>\n",
       "      <th>Flow Duration</th>\n",
       "      <th>Total Fwd Packets</th>\n",
       "      <th>Total Backward Packets</th>\n",
       "      <th>Total Length of Fwd Packets</th>\n",
       "      <th>Total Length of Bwd Packets</th>\n",
       "      <th>Fwd Packet Length Max</th>\n",
       "      <th>Fwd Packet Length Min</th>\n",
       "      <th>Fwd Packet Length Mean</th>\n",
       "      <th>Fwd Packet Length Std</th>\n",
       "      <th>Bwd Packet Length Max</th>\n",
       "      <th>...</th>\n",
       "      <th>min_seg_size_forward</th>\n",
       "      <th>Active Mean</th>\n",
       "      <th>Active Std</th>\n",
       "      <th>Active Max</th>\n",
       "      <th>Active Min</th>\n",
       "      <th>Idle Mean</th>\n",
       "      <th>Idle Std</th>\n",
       "      <th>Idle Max</th>\n",
       "      <th>Idle Min</th>\n",
       "      <th>Label</th>\n",
       "    </tr>\n",
       "  </thead>\n",
       "  <tbody>\n",
       "    <tr>\n",
       "      <th>0</th>\n",
       "      <td>3.333333e-08</td>\n",
       "      <td>0.000144</td>\n",
       "      <td>0.000000</td>\n",
       "      <td>0.000013</td>\n",
       "      <td>0.000000</td>\n",
       "      <td>0.001327</td>\n",
       "      <td>0.003026</td>\n",
       "      <td>0.003114</td>\n",
       "      <td>0.002508</td>\n",
       "      <td>0.000000</td>\n",
       "      <td>...</td>\n",
       "      <td>0.333333</td>\n",
       "      <td>0.000000</td>\n",
       "      <td>0.0</td>\n",
       "      <td>0.000000</td>\n",
       "      <td>0.000000</td>\n",
       "      <td>0.000000</td>\n",
       "      <td>0.0</td>\n",
       "      <td>0.000000</td>\n",
       "      <td>0.000000</td>\n",
       "      <td>BENIGN</td>\n",
       "    </tr>\n",
       "    <tr>\n",
       "      <th>1</th>\n",
       "      <td>1.186475e-03</td>\n",
       "      <td>0.006494</td>\n",
       "      <td>0.006277</td>\n",
       "      <td>0.000462</td>\n",
       "      <td>0.004923</td>\n",
       "      <td>0.024401</td>\n",
       "      <td>0.000000</td>\n",
       "      <td>0.004849</td>\n",
       "      <td>0.015804</td>\n",
       "      <td>0.373453</td>\n",
       "      <td>...</td>\n",
       "      <td>0.333333</td>\n",
       "      <td>0.000000</td>\n",
       "      <td>0.0</td>\n",
       "      <td>0.000000</td>\n",
       "      <td>0.000000</td>\n",
       "      <td>0.000000</td>\n",
       "      <td>0.0</td>\n",
       "      <td>0.000000</td>\n",
       "      <td>0.000000</td>\n",
       "      <td>BENIGN</td>\n",
       "    </tr>\n",
       "    <tr>\n",
       "      <th>2</th>\n",
       "      <td>9.906083e-04</td>\n",
       "      <td>0.003175</td>\n",
       "      <td>0.002835</td>\n",
       "      <td>0.000408</td>\n",
       "      <td>0.002094</td>\n",
       "      <td>0.024401</td>\n",
       "      <td>0.000000</td>\n",
       "      <td>0.008555</td>\n",
       "      <td>0.022149</td>\n",
       "      <td>0.248968</td>\n",
       "      <td>...</td>\n",
       "      <td>0.533333</td>\n",
       "      <td>0.000000</td>\n",
       "      <td>0.0</td>\n",
       "      <td>0.000000</td>\n",
       "      <td>0.000000</td>\n",
       "      <td>0.000000</td>\n",
       "      <td>0.0</td>\n",
       "      <td>0.000000</td>\n",
       "      <td>0.000000</td>\n",
       "      <td>BENIGN</td>\n",
       "    </tr>\n",
       "    <tr>\n",
       "      <th>3</th>\n",
       "      <td>1.196475e-03</td>\n",
       "      <td>0.006061</td>\n",
       "      <td>0.005568</td>\n",
       "      <td>0.000454</td>\n",
       "      <td>0.004990</td>\n",
       "      <td>0.024401</td>\n",
       "      <td>0.000000</td>\n",
       "      <td>0.005093</td>\n",
       "      <td>0.016339</td>\n",
       "      <td>0.373453</td>\n",
       "      <td>...</td>\n",
       "      <td>0.333333</td>\n",
       "      <td>0.000000</td>\n",
       "      <td>0.0</td>\n",
       "      <td>0.000000</td>\n",
       "      <td>0.000000</td>\n",
       "      <td>0.000000</td>\n",
       "      <td>0.0</td>\n",
       "      <td>0.000000</td>\n",
       "      <td>0.000000</td>\n",
       "      <td>BENIGN</td>\n",
       "    </tr>\n",
       "    <tr>\n",
       "      <th>4</th>\n",
       "      <td>1.197875e-03</td>\n",
       "      <td>0.006927</td>\n",
       "      <td>0.005973</td>\n",
       "      <td>0.000464</td>\n",
       "      <td>0.005125</td>\n",
       "      <td>0.024401</td>\n",
       "      <td>0.000000</td>\n",
       "      <td>0.004572</td>\n",
       "      <td>0.015330</td>\n",
       "      <td>0.373453</td>\n",
       "      <td>...</td>\n",
       "      <td>0.333333</td>\n",
       "      <td>0.000000</td>\n",
       "      <td>0.0</td>\n",
       "      <td>0.000000</td>\n",
       "      <td>0.000000</td>\n",
       "      <td>0.000000</td>\n",
       "      <td>0.0</td>\n",
       "      <td>0.000000</td>\n",
       "      <td>0.000000</td>\n",
       "      <td>BENIGN</td>\n",
       "    </tr>\n",
       "    <tr>\n",
       "      <th>...</th>\n",
       "      <td>...</td>\n",
       "      <td>...</td>\n",
       "      <td>...</td>\n",
       "      <td>...</td>\n",
       "      <td>...</td>\n",
       "      <td>...</td>\n",
       "      <td>...</td>\n",
       "      <td>...</td>\n",
       "      <td>...</td>\n",
       "      <td>...</td>\n",
       "      <td>...</td>\n",
       "      <td>...</td>\n",
       "      <td>...</td>\n",
       "      <td>...</td>\n",
       "      <td>...</td>\n",
       "      <td>...</td>\n",
       "      <td>...</td>\n",
       "      <td>...</td>\n",
       "      <td>...</td>\n",
       "      <td>...</td>\n",
       "      <td>...</td>\n",
       "    </tr>\n",
       "    <tr>\n",
       "      <th>56655</th>\n",
       "      <td>1.179017e-03</td>\n",
       "      <td>0.000433</td>\n",
       "      <td>0.000202</td>\n",
       "      <td>0.000117</td>\n",
       "      <td>0.000015</td>\n",
       "      <td>0.003596</td>\n",
       "      <td>0.042360</td>\n",
       "      <td>0.014139</td>\n",
       "      <td>0.000000</td>\n",
       "      <td>0.014271</td>\n",
       "      <td>...</td>\n",
       "      <td>0.333333</td>\n",
       "      <td>0.000000</td>\n",
       "      <td>0.0</td>\n",
       "      <td>0.000000</td>\n",
       "      <td>0.000000</td>\n",
       "      <td>0.000000</td>\n",
       "      <td>0.0</td>\n",
       "      <td>0.000000</td>\n",
       "      <td>0.000000</td>\n",
       "      <td>BENIGN</td>\n",
       "    </tr>\n",
       "    <tr>\n",
       "      <th>56656</th>\n",
       "      <td>1.950000e-06</td>\n",
       "      <td>0.000144</td>\n",
       "      <td>0.000202</td>\n",
       "      <td>0.000022</td>\n",
       "      <td>0.000011</td>\n",
       "      <td>0.001370</td>\n",
       "      <td>0.016137</td>\n",
       "      <td>0.005386</td>\n",
       "      <td>0.000000</td>\n",
       "      <td>0.009972</td>\n",
       "      <td>...</td>\n",
       "      <td>0.533333</td>\n",
       "      <td>0.000000</td>\n",
       "      <td>0.0</td>\n",
       "      <td>0.000000</td>\n",
       "      <td>0.000000</td>\n",
       "      <td>0.000000</td>\n",
       "      <td>0.0</td>\n",
       "      <td>0.000000</td>\n",
       "      <td>0.000000</td>\n",
       "      <td>BENIGN</td>\n",
       "    </tr>\n",
       "    <tr>\n",
       "      <th>56657</th>\n",
       "      <td>1.110733e-03</td>\n",
       "      <td>0.000144</td>\n",
       "      <td>0.000202</td>\n",
       "      <td>0.000033</td>\n",
       "      <td>0.000022</td>\n",
       "      <td>0.002012</td>\n",
       "      <td>0.023701</td>\n",
       "      <td>0.007911</td>\n",
       "      <td>0.000000</td>\n",
       "      <td>0.020719</td>\n",
       "      <td>...</td>\n",
       "      <td>0.533333</td>\n",
       "      <td>0.000000</td>\n",
       "      <td>0.0</td>\n",
       "      <td>0.000000</td>\n",
       "      <td>0.000000</td>\n",
       "      <td>0.000000</td>\n",
       "      <td>0.0</td>\n",
       "      <td>0.000000</td>\n",
       "      <td>0.000000</td>\n",
       "      <td>BENIGN</td>\n",
       "    </tr>\n",
       "    <tr>\n",
       "      <th>56658</th>\n",
       "      <td>9.589745e-02</td>\n",
       "      <td>0.000577</td>\n",
       "      <td>0.000405</td>\n",
       "      <td>0.000157</td>\n",
       "      <td>0.000164</td>\n",
       "      <td>0.019264</td>\n",
       "      <td>0.000000</td>\n",
       "      <td>0.015149</td>\n",
       "      <td>0.028548</td>\n",
       "      <td>0.303043</td>\n",
       "      <td>...</td>\n",
       "      <td>0.533333</td>\n",
       "      <td>0.000009</td>\n",
       "      <td>0.0</td>\n",
       "      <td>0.000009</td>\n",
       "      <td>0.000009</td>\n",
       "      <td>0.054652</td>\n",
       "      <td>0.0</td>\n",
       "      <td>0.054652</td>\n",
       "      <td>0.054652</td>\n",
       "      <td>DoS</td>\n",
       "    </tr>\n",
       "    <tr>\n",
       "      <th>56659</th>\n",
       "      <td>9.589756e-02</td>\n",
       "      <td>0.001010</td>\n",
       "      <td>0.000607</td>\n",
       "      <td>0.000145</td>\n",
       "      <td>0.000541</td>\n",
       "      <td>0.017808</td>\n",
       "      <td>0.000000</td>\n",
       "      <td>0.008753</td>\n",
       "      <td>0.020864</td>\n",
       "      <td>0.497937</td>\n",
       "      <td>...</td>\n",
       "      <td>0.533333</td>\n",
       "      <td>0.000009</td>\n",
       "      <td>0.0</td>\n",
       "      <td>0.000009</td>\n",
       "      <td>0.000009</td>\n",
       "      <td>0.054648</td>\n",
       "      <td>0.0</td>\n",
       "      <td>0.054648</td>\n",
       "      <td>0.054648</td>\n",
       "      <td>DoS</td>\n",
       "    </tr>\n",
       "  </tbody>\n",
       "</table>\n",
       "<p>56660 rows × 78 columns</p>\n",
       "</div>"
      ],
      "text/plain": [
       "       Flow Duration  Total Fwd Packets  Total Backward Packets  \\\n",
       "0       3.333333e-08           0.000144                0.000000   \n",
       "1       1.186475e-03           0.006494                0.006277   \n",
       "2       9.906083e-04           0.003175                0.002835   \n",
       "3       1.196475e-03           0.006061                0.005568   \n",
       "4       1.197875e-03           0.006927                0.005973   \n",
       "...              ...                ...                     ...   \n",
       "56655   1.179017e-03           0.000433                0.000202   \n",
       "56656   1.950000e-06           0.000144                0.000202   \n",
       "56657   1.110733e-03           0.000144                0.000202   \n",
       "56658   9.589745e-02           0.000577                0.000405   \n",
       "56659   9.589756e-02           0.001010                0.000607   \n",
       "\n",
       "       Total Length of Fwd Packets  Total Length of Bwd Packets  \\\n",
       "0                         0.000013                     0.000000   \n",
       "1                         0.000462                     0.004923   \n",
       "2                         0.000408                     0.002094   \n",
       "3                         0.000454                     0.004990   \n",
       "4                         0.000464                     0.005125   \n",
       "...                            ...                          ...   \n",
       "56655                     0.000117                     0.000015   \n",
       "56656                     0.000022                     0.000011   \n",
       "56657                     0.000033                     0.000022   \n",
       "56658                     0.000157                     0.000164   \n",
       "56659                     0.000145                     0.000541   \n",
       "\n",
       "       Fwd Packet Length Max  Fwd Packet Length Min  Fwd Packet Length Mean  \\\n",
       "0                   0.001327               0.003026                0.003114   \n",
       "1                   0.024401               0.000000                0.004849   \n",
       "2                   0.024401               0.000000                0.008555   \n",
       "3                   0.024401               0.000000                0.005093   \n",
       "4                   0.024401               0.000000                0.004572   \n",
       "...                      ...                    ...                     ...   \n",
       "56655               0.003596               0.042360                0.014139   \n",
       "56656               0.001370               0.016137                0.005386   \n",
       "56657               0.002012               0.023701                0.007911   \n",
       "56658               0.019264               0.000000                0.015149   \n",
       "56659               0.017808               0.000000                0.008753   \n",
       "\n",
       "       Fwd Packet Length Std  Bwd Packet Length Max  ...  \\\n",
       "0                   0.002508               0.000000  ...   \n",
       "1                   0.015804               0.373453  ...   \n",
       "2                   0.022149               0.248968  ...   \n",
       "3                   0.016339               0.373453  ...   \n",
       "4                   0.015330               0.373453  ...   \n",
       "...                      ...                    ...  ...   \n",
       "56655               0.000000               0.014271  ...   \n",
       "56656               0.000000               0.009972  ...   \n",
       "56657               0.000000               0.020719  ...   \n",
       "56658               0.028548               0.303043  ...   \n",
       "56659               0.020864               0.497937  ...   \n",
       "\n",
       "       min_seg_size_forward  Active Mean  Active Std  Active Max  Active Min  \\\n",
       "0                  0.333333     0.000000         0.0    0.000000    0.000000   \n",
       "1                  0.333333     0.000000         0.0    0.000000    0.000000   \n",
       "2                  0.533333     0.000000         0.0    0.000000    0.000000   \n",
       "3                  0.333333     0.000000         0.0    0.000000    0.000000   \n",
       "4                  0.333333     0.000000         0.0    0.000000    0.000000   \n",
       "...                     ...          ...         ...         ...         ...   \n",
       "56655              0.333333     0.000000         0.0    0.000000    0.000000   \n",
       "56656              0.533333     0.000000         0.0    0.000000    0.000000   \n",
       "56657              0.533333     0.000000         0.0    0.000000    0.000000   \n",
       "56658              0.533333     0.000009         0.0    0.000009    0.000009   \n",
       "56659              0.533333     0.000009         0.0    0.000009    0.000009   \n",
       "\n",
       "       Idle Mean  Idle Std  Idle Max  Idle Min   Label  \n",
       "0       0.000000       0.0  0.000000  0.000000  BENIGN  \n",
       "1       0.000000       0.0  0.000000  0.000000  BENIGN  \n",
       "2       0.000000       0.0  0.000000  0.000000  BENIGN  \n",
       "3       0.000000       0.0  0.000000  0.000000  BENIGN  \n",
       "4       0.000000       0.0  0.000000  0.000000  BENIGN  \n",
       "...          ...       ...       ...       ...     ...  \n",
       "56655   0.000000       0.0  0.000000  0.000000  BENIGN  \n",
       "56656   0.000000       0.0  0.000000  0.000000  BENIGN  \n",
       "56657   0.000000       0.0  0.000000  0.000000  BENIGN  \n",
       "56658   0.054652       0.0  0.054652  0.054652     DoS  \n",
       "56659   0.054648       0.0  0.054648  0.054648     DoS  \n",
       "\n",
       "[56660 rows x 78 columns]"
      ]
     },
     "execution_count": 5,
     "metadata": {},
     "output_type": "execute_result"
    }
   ],
   "source": [
    "df"
   ]
  },
  {
   "cell_type": "markdown",
   "id": "f01176ad",
   "metadata": {
    "papermill": {
     "duration": 0.018735,
     "end_time": "2022-05-31T12:08:09.000940",
     "exception": false,
     "start_time": "2022-05-31T12:08:08.982205",
     "status": "completed"
    },
    "tags": []
   },
   "source": [
    "### split train set and test set"
   ]
  },
  {
   "cell_type": "code",
   "execution_count": 6,
   "id": "db1a276e",
   "metadata": {
    "execution": {
     "iopub.execute_input": "2022-05-31T12:08:09.043316Z",
     "iopub.status.busy": "2022-05-31T12:08:09.042534Z",
     "iopub.status.idle": "2022-05-31T12:08:09.199765Z",
     "shell.execute_reply": "2022-05-31T12:08:09.198442Z"
    },
    "papermill": {
     "duration": 0.181388,
     "end_time": "2022-05-31T12:08:09.202519",
     "exception": false,
     "start_time": "2022-05-31T12:08:09.021131",
     "status": "completed"
    },
    "tags": []
   },
   "outputs": [],
   "source": [
    "labelencoder = LabelEncoder()\n",
    "df.iloc[:, -1] = labelencoder.fit_transform(df.iloc[:, -1])\n",
    "X = df.drop(['Label'],axis=1).values \n",
    "y = df.iloc[:, -1].values.reshape(-1,1)\n",
    "y=np.ravel(y)\n",
    "X_train, X_test, y_train, y_test = train_test_split(X,y, train_size = 0.8, test_size = 0.2, random_state = 0,stratify = y)"
   ]
  },
  {
   "cell_type": "code",
   "execution_count": 7,
   "id": "23bdf73f",
   "metadata": {
    "collapsed": false,
    "execution": {
     "iopub.execute_input": "2022-05-31T12:08:09.245624Z",
     "iopub.status.busy": "2022-05-31T12:08:09.244812Z",
     "iopub.status.idle": "2022-05-31T12:08:09.251153Z",
     "shell.execute_reply": "2022-05-31T12:08:09.250034Z"
    },
    "jupyter": {
     "outputs_hidden": false
    },
    "papermill": {
     "duration": 0.031139,
     "end_time": "2022-05-31T12:08:09.253453",
     "exception": false,
     "start_time": "2022-05-31T12:08:09.222314",
     "status": "completed"
    },
    "tags": []
   },
   "outputs": [
    {
     "data": {
      "text/plain": [
       "(45328, 77)"
      ]
     },
     "execution_count": 7,
     "metadata": {},
     "output_type": "execute_result"
    }
   ],
   "source": [
    "X_train.shape"
   ]
  },
  {
   "cell_type": "code",
   "execution_count": 8,
   "id": "75eb6e1f",
   "metadata": {
    "collapsed": false,
    "execution": {
     "iopub.execute_input": "2022-05-31T12:08:09.295453Z",
     "iopub.status.busy": "2022-05-31T12:08:09.294446Z",
     "iopub.status.idle": "2022-05-31T12:08:09.305092Z",
     "shell.execute_reply": "2022-05-31T12:08:09.304187Z"
    },
    "jupyter": {
     "outputs_hidden": false
    },
    "papermill": {
     "duration": 0.034357,
     "end_time": "2022-05-31T12:08:09.307404",
     "exception": false,
     "start_time": "2022-05-31T12:08:09.273047",
     "status": "completed"
    },
    "tags": []
   },
   "outputs": [
    {
     "data": {
      "text/plain": [
       "0    18185\n",
       "3    15227\n",
       "5     6357\n",
       "2     2213\n",
       "6     1744\n",
       "1     1573\n",
       "4       29\n",
       "dtype: int64"
      ]
     },
     "execution_count": 8,
     "metadata": {},
     "output_type": "execute_result"
    }
   ],
   "source": [
    "pd.Series(y_train).value_counts()"
   ]
  },
  {
   "cell_type": "markdown",
   "id": "71d308d4",
   "metadata": {
    "papermill": {
     "duration": 0.020013,
     "end_time": "2022-05-31T12:08:09.348000",
     "exception": false,
     "start_time": "2022-05-31T12:08:09.327987",
     "status": "completed"
    },
    "tags": []
   },
   "source": [
    "### Oversampling by SMOTE"
   ]
  },
  {
   "cell_type": "code",
   "execution_count": 9,
   "id": "9e376b33",
   "metadata": {
    "collapsed": false,
    "execution": {
     "iopub.execute_input": "2022-05-31T12:08:09.389442Z",
     "iopub.status.busy": "2022-05-31T12:08:09.388697Z",
     "iopub.status.idle": "2022-05-31T12:08:09.543586Z",
     "shell.execute_reply": "2022-05-31T12:08:09.542554Z"
    },
    "jupyter": {
     "outputs_hidden": false
    },
    "papermill": {
     "duration": 0.178714,
     "end_time": "2022-05-31T12:08:09.546251",
     "exception": false,
     "start_time": "2022-05-31T12:08:09.367537",
     "status": "completed"
    },
    "tags": []
   },
   "outputs": [],
   "source": [
    "from imblearn.over_sampling import SMOTE\n",
    "smote=SMOTE(n_jobs=-1,sampling_strategy={4:1500}) # Create 1500 samples for the minority class \"4\""
   ]
  },
  {
   "cell_type": "code",
   "execution_count": 10,
   "id": "1e3b11d1",
   "metadata": {
    "execution": {
     "iopub.execute_input": "2022-05-31T12:08:09.587972Z",
     "iopub.status.busy": "2022-05-31T12:08:09.587461Z",
     "iopub.status.idle": "2022-05-31T12:08:09.654439Z",
     "shell.execute_reply": "2022-05-31T12:08:09.653394Z"
    },
    "papermill": {
     "duration": 0.091055,
     "end_time": "2022-05-31T12:08:09.657236",
     "exception": false,
     "start_time": "2022-05-31T12:08:09.566181",
     "status": "completed"
    },
    "tags": []
   },
   "outputs": [],
   "source": [
    "X_train, y_train = smote.fit_resample(X_train, y_train)"
   ]
  },
  {
   "cell_type": "code",
   "execution_count": 11,
   "id": "68b082c1",
   "metadata": {
    "execution": {
     "iopub.execute_input": "2022-05-31T12:08:09.701163Z",
     "iopub.status.busy": "2022-05-31T12:08:09.700020Z",
     "iopub.status.idle": "2022-05-31T12:08:09.706958Z",
     "shell.execute_reply": "2022-05-31T12:08:09.705945Z"
    },
    "papermill": {
     "duration": 0.031964,
     "end_time": "2022-05-31T12:08:09.709370",
     "exception": false,
     "start_time": "2022-05-31T12:08:09.677406",
     "status": "completed"
    },
    "tags": []
   },
   "outputs": [],
   "source": [
    "del smote"
   ]
  },
  {
   "cell_type": "code",
   "execution_count": 12,
   "id": "19a822cc",
   "metadata": {
    "collapsed": false,
    "execution": {
     "iopub.execute_input": "2022-05-31T12:08:09.753064Z",
     "iopub.status.busy": "2022-05-31T12:08:09.752545Z",
     "iopub.status.idle": "2022-05-31T12:08:09.762234Z",
     "shell.execute_reply": "2022-05-31T12:08:09.761116Z"
    },
    "jupyter": {
     "outputs_hidden": false
    },
    "papermill": {
     "duration": 0.035951,
     "end_time": "2022-05-31T12:08:09.765022",
     "exception": false,
     "start_time": "2022-05-31T12:08:09.729071",
     "status": "completed"
    },
    "scrolled": true,
    "tags": []
   },
   "outputs": [
    {
     "data": {
      "text/plain": [
       "0    18185\n",
       "3    15227\n",
       "5     6357\n",
       "2     2213\n",
       "6     1744\n",
       "1     1573\n",
       "4     1500\n",
       "dtype: int64"
      ]
     },
     "execution_count": 12,
     "metadata": {},
     "output_type": "execute_result"
    }
   ],
   "source": [
    "pd.Series(y_train).value_counts()"
   ]
  },
  {
   "cell_type": "markdown",
   "id": "2dd82ede",
   "metadata": {
    "papermill": {
     "duration": 0.020448,
     "end_time": "2022-05-31T12:08:09.805633",
     "exception": false,
     "start_time": "2022-05-31T12:08:09.785185",
     "status": "completed"
    },
    "tags": []
   },
   "source": [
    "## Machine learning model training"
   ]
  },
  {
   "cell_type": "markdown",
   "id": "21851a24",
   "metadata": {
    "papermill": {
     "duration": 0.019828,
     "end_time": "2022-05-31T12:08:09.846842",
     "exception": false,
     "start_time": "2022-05-31T12:08:09.827014",
     "status": "completed"
    },
    "tags": []
   },
   "source": [
    "### Training four base learners: decision tree, random forest, extra trees, XGBoost"
   ]
  },
  {
   "cell_type": "code",
   "execution_count": 13,
   "id": "ef417ed6",
   "metadata": {
    "collapsed": false,
    "execution": {
     "iopub.execute_input": "2022-05-31T12:08:09.889988Z",
     "iopub.status.busy": "2022-05-31T12:08:09.889129Z",
     "iopub.status.idle": "2022-05-31T12:08:11.526085Z",
     "shell.execute_reply": "2022-05-31T12:08:11.524793Z"
    },
    "jupyter": {
     "outputs_hidden": false
    },
    "papermill": {
     "duration": 1.66329,
     "end_time": "2022-05-31T12:08:11.530214",
     "exception": false,
     "start_time": "2022-05-31T12:08:09.866924",
     "status": "completed"
    },
    "tags": []
   },
   "outputs": [
    {
     "name": "stdout",
     "output_type": "stream",
     "text": [
      "Accuracy of DT: 0.9954994705259442\n",
      "Precision of DT: 0.9955315745581214\n",
      "Recall of DT: 0.9954994705259442\n",
      "F1-score of DT: 0.9955098376021184\n",
      "              precision    recall  f1-score   support\n",
      "\n",
      "           0       1.00      0.99      0.99      4546\n",
      "           1       0.99      0.98      0.98       393\n",
      "           2       0.99      1.00      1.00       554\n",
      "           3       1.00      1.00      1.00      3807\n",
      "           4       0.62      0.71      0.67         7\n",
      "           5       1.00      1.00      1.00      1589\n",
      "           6       0.99      0.99      0.99       436\n",
      "\n",
      "    accuracy                           1.00     11332\n",
      "   macro avg       0.94      0.95      0.95     11332\n",
      "weighted avg       1.00      1.00      1.00     11332\n",
      "\n"
     ]
    },
    {
     "data": {
      "image/png": "[encoded data removed]",
      "text/plain": [
       "<Figure size 360x360 with 2 Axes>"
      ]
     },
     "metadata": {
      "needs_background": "light"
     },
     "output_type": "display_data"
    },
    {
     "name": "stdout",
     "output_type": "stream",
     "text": [
      "Time span of DT: 1.6249289512634277\n"
     ]
    }
   ],
   "source": [
    "# Decision tree training and prediction\n",
    "start = time.time()\n",
    "\n",
    "dt = DecisionTreeClassifier(random_state = 0)\n",
    "dt.fit(X_train,y_train) \n",
    "dt_score=dt.score(X_test,y_test)\n",
    "y_predict=dt.predict(X_test)\n",
    "y_true=y_test\n",
    "print('Accuracy of DT: '+ str(dt_score))\n",
    "precision,recall,fscore,none= precision_recall_fscore_support(y_true, y_predict, average='weighted') \n",
    "print('Precision of DT: '+(str(precision)))\n",
    "print('Recall of DT: '+(str(recall)))\n",
    "print('F1-score of DT: '+(str(fscore)))\n",
    "print(classification_report(y_true,y_predict))\n",
    "cm=confusion_matrix(y_true,y_predict)\n",
    "f,ax=plt.subplots(figsize=(5,5))\n",
    "sns.heatmap(cm,annot=True,linewidth=0.5,linecolor=\"red\",fmt=\".0f\",ax=ax)\n",
    "plt.xlabel(\"y_pred\")\n",
    "plt.ylabel(\"y_true\")\n",
    "plt.show()\n",
    "\n",
    "end = time.time()\n",
    "dt_span = end - start\n",
    "print('Time span of DT: ' + str(dt_span))"
   ]
  },
  {
   "cell_type": "code",
   "execution_count": 14,
   "id": "30582ba6",
   "metadata": {
    "execution": {
     "iopub.execute_input": "2022-05-31T12:08:11.575235Z",
     "iopub.status.busy": "2022-05-31T12:08:11.574629Z",
     "iopub.status.idle": "2022-05-31T12:08:11.601480Z",
     "shell.execute_reply": "2022-05-31T12:08:11.600096Z"
    },
    "papermill": {
     "duration": 0.052503,
     "end_time": "2022-05-31T12:08:11.604458",
     "exception": false,
     "start_time": "2022-05-31T12:08:11.551955",
     "status": "completed"
    },
    "tags": []
   },
   "outputs": [],
   "source": [
    "dt_train=dt.predict(X_train)\n",
    "dt_test=dt.predict(X_test)"
   ]
  },
  {
   "cell_type": "code",
   "execution_count": 15,
   "id": "0757fd9a",
   "metadata": {
    "collapsed": false,
    "execution": {
     "iopub.execute_input": "2022-05-31T12:08:11.648180Z",
     "iopub.status.busy": "2022-05-31T12:08:11.647313Z",
     "iopub.status.idle": "2022-05-31T12:08:21.356420Z",
     "shell.execute_reply": "2022-05-31T12:08:21.355292Z"
    },
    "jupyter": {
     "outputs_hidden": false
    },
    "papermill": {
     "duration": 9.734307,
     "end_time": "2022-05-31T12:08:21.358907",
     "exception": false,
     "start_time": "2022-05-31T12:08:11.624600",
     "status": "completed"
    },
    "tags": []
   },
   "outputs": [
    {
     "name": "stdout",
     "output_type": "stream",
     "text": [
      "Accuracy of RF: 0.9954994705259442\n",
      "Precision of RF: 0.9955109609225063\n",
      "Recall of RF: 0.9954994705259442\n",
      "F1-score of RF: 0.9954865099474962\n",
      "              precision    recall  f1-score   support\n",
      "\n",
      "           0       1.00      0.99      0.99      4546\n",
      "           1       0.96      0.97      0.97       393\n",
      "           2       1.00      1.00      1.00       554\n",
      "           3       1.00      1.00      1.00      3807\n",
      "           4       1.00      0.71      0.83         7\n",
      "           5       1.00      1.00      1.00      1589\n",
      "           6       1.00      0.98      0.99       436\n",
      "\n",
      "    accuracy                           1.00     11332\n",
      "   macro avg       0.99      0.95      0.97     11332\n",
      "weighted avg       1.00      1.00      1.00     11332\n",
      "\n"
     ]
    },
    {
     "data": {
      "image/png": "[encoded data removed]",
      "text/plain": [
       "<Figure size 360x360 with 2 Axes>"
      ]
     },
     "metadata": {
      "needs_background": "light"
     },
     "output_type": "display_data"
    },
    {
     "name": "stdout",
     "output_type": "stream",
     "text": [
      "Time span of RF: 9.696107149124146\n"
     ]
    }
   ],
   "source": [
    "# Random Forest training and prediction\n",
    "start = time.time()\n",
    "\n",
    "rf = RandomForestClassifier(random_state = 0)\n",
    "rf.fit(X_train,y_train) \n",
    "rf_score=rf.score(X_test,y_test)\n",
    "y_predict=rf.predict(X_test)\n",
    "y_true=y_test\n",
    "print('Accuracy of RF: '+ str(rf_score))\n",
    "precision,recall,fscore,none= precision_recall_fscore_support(y_true, y_predict, average='weighted') \n",
    "print('Precision of RF: '+(str(precision)))\n",
    "print('Recall of RF: '+(str(recall)))\n",
    "print('F1-score of RF: '+(str(fscore)))\n",
    "print(classification_report(y_true,y_predict))\n",
    "cm=confusion_matrix(y_true,y_predict)\n",
    "f,ax=plt.subplots(figsize=(5,5))\n",
    "sns.heatmap(cm,annot=True,linewidth=0.5,linecolor=\"red\",fmt=\".0f\",ax=ax)\n",
    "plt.xlabel(\"y_pred\")\n",
    "plt.ylabel(\"y_true\")\n",
    "plt.show()\n",
    "\n",
    "end = time.time()\n",
    "rf_span = end - start\n",
    "print('Time span of RF: ' + str(rf_span))"
   ]
  },
  {
   "cell_type": "code",
   "execution_count": 16,
   "id": "9ad89a31",
   "metadata": {
    "execution": {
     "iopub.execute_input": "2022-05-31T12:08:21.404381Z",
     "iopub.status.busy": "2022-05-31T12:08:21.403867Z",
     "iopub.status.idle": "2022-05-31T12:08:22.399543Z",
     "shell.execute_reply": "2022-05-31T12:08:22.398422Z"
    },
    "papermill": {
     "duration": 1.021798,
     "end_time": "2022-05-31T12:08:22.402504",
     "exception": false,
     "start_time": "2022-05-31T12:08:21.380706",
     "status": "completed"
    },
    "tags": []
   },
   "outputs": [],
   "source": [
    "rf_train=rf.predict(X_train)\n",
    "rf_test=rf.predict(X_test)"
   ]
  },
  {
   "cell_type": "code",
   "execution_count": 17,
   "id": "641557ad",
   "metadata": {
    "collapsed": false,
    "execution": {
     "iopub.execute_input": "2022-05-31T12:08:22.445978Z",
     "iopub.status.busy": "2022-05-31T12:08:22.445015Z",
     "iopub.status.idle": "2022-05-31T12:08:29.539747Z",
     "shell.execute_reply": "2022-05-31T12:08:29.538509Z"
    },
    "jupyter": {
     "outputs_hidden": false
    },
    "papermill": {
     "duration": 7.119857,
     "end_time": "2022-05-31T12:08:29.542901",
     "exception": false,
     "start_time": "2022-05-31T12:08:22.423044",
     "status": "completed"
    },
    "tags": []
   },
   "outputs": [
    {
     "name": "stdout",
     "output_type": "stream",
     "text": [
      "Accuracy of ET: 0.9923226261913166\n",
      "Precision of ET: 0.9923247864810802\n",
      "Recall of ET: 0.9923226261913166\n",
      "F1-score of ET: 0.9923114472167227\n",
      "              precision    recall  f1-score   support\n",
      "\n",
      "           0       0.99      0.99      0.99      4546\n",
      "           1       0.96      0.97      0.97       393\n",
      "           2       0.99      1.00      0.99       554\n",
      "           3       0.99      1.00      1.00      3807\n",
      "           4       0.83      0.71      0.77         7\n",
      "           5       1.00      1.00      1.00      1589\n",
      "           6       0.98      0.97      0.98       436\n",
      "\n",
      "    accuracy                           0.99     11332\n",
      "   macro avg       0.96      0.95      0.96     11332\n",
      "weighted avg       0.99      0.99      0.99     11332\n",
      "\n"
     ]
    },
    {
     "data": {
      "image/png": "[encoded data removed]",
      "text/plain": [
       "<Figure size 360x360 with 2 Axes>"
      ]
     },
     "metadata": {
      "needs_background": "light"
     },
     "output_type": "display_data"
    },
    {
     "name": "stdout",
     "output_type": "stream",
     "text": [
      "Time span of ET: 7.082869529724121\n"
     ]
    }
   ],
   "source": [
    "# Extra trees training and prediction\n",
    "start = time.time()\n",
    "\n",
    "et = ExtraTreesClassifier(random_state = 0)\n",
    "et.fit(X_train,y_train) \n",
    "et_score=et.score(X_test,y_test)\n",
    "y_predict=et.predict(X_test)\n",
    "y_true=y_test\n",
    "print('Accuracy of ET: '+ str(et_score))\n",
    "precision,recall,fscore,none= precision_recall_fscore_support(y_true, y_predict, average='weighted') \n",
    "print('Precision of ET: '+(str(precision)))\n",
    "print('Recall of ET: '+(str(recall)))\n",
    "print('F1-score of ET: '+(str(fscore)))\n",
    "print(classification_report(y_true,y_predict))\n",
    "cm=confusion_matrix(y_true,y_predict)\n",
    "f,ax=plt.subplots(figsize=(5,5))\n",
    "sns.heatmap(cm,annot=True,linewidth=0.5,linecolor=\"red\",fmt=\".0f\",ax=ax)\n",
    "plt.xlabel(\"y_pred\")\n",
    "plt.ylabel(\"y_true\")\n",
    "plt.show()\n",
    "\n",
    "end = time.time()\n",
    "et_span = end - start\n",
    "print('Time span of ET: ' + str(et_span))"
   ]
  },
  {
   "cell_type": "code",
   "execution_count": 18,
   "id": "bc15abc1",
   "metadata": {
    "execution": {
     "iopub.execute_input": "2022-05-31T12:08:29.587402Z",
     "iopub.status.busy": "2022-05-31T12:08:29.586896Z",
     "iopub.status.idle": "2022-05-31T12:08:30.810000Z",
     "shell.execute_reply": "2022-05-31T12:08:30.808793Z"
    },
    "papermill": {
     "duration": 1.248735,
     "end_time": "2022-05-31T12:08:30.812787",
     "exception": false,
     "start_time": "2022-05-31T12:08:29.564052",
     "status": "completed"
    },
    "tags": []
   },
   "outputs": [],
   "source": [
    "et_train=et.predict(X_train)\n",
    "et_test=et.predict(X_test)"
   ]
  },
  {
   "cell_type": "code",
   "execution_count": 19,
   "id": "963b2b11",
   "metadata": {
    "collapsed": false,
    "execution": {
     "iopub.execute_input": "2022-05-31T12:08:30.857721Z",
     "iopub.status.busy": "2022-05-31T12:08:30.857217Z",
     "iopub.status.idle": "2022-05-31T12:08:38.816976Z",
     "shell.execute_reply": "2022-05-31T12:08:38.815591Z"
    },
    "jupyter": {
     "outputs_hidden": false
    },
    "papermill": {
     "duration": 7.985669,
     "end_time": "2022-05-31T12:08:38.819729",
     "exception": false,
     "start_time": "2022-05-31T12:08:30.834060",
     "status": "completed"
    },
    "tags": []
   },
   "outputs": [
    {
     "name": "stdout",
     "output_type": "stream",
     "text": [
      "Accuracy of XGBoost: 0.9941757853865161\n",
      "Precision of XGBoost: 0.994168114538626\n",
      "Recall of XGBoost: 0.9941757853865161\n",
      "F1-score of XGBoost: 0.9941591408148734\n",
      "              precision    recall  f1-score   support\n",
      "\n",
      "           0       0.99      0.99      0.99      4546\n",
      "           1       0.99      0.97      0.98       393\n",
      "           2       1.00      1.00      1.00       554\n",
      "           3       0.99      1.00      1.00      3807\n",
      "           4       0.83      0.71      0.77         7\n",
      "           5       1.00      1.00      1.00      1589\n",
      "           6       1.00      0.98      0.99       436\n",
      "\n",
      "    accuracy                           0.99     11332\n",
      "   macro avg       0.97      0.95      0.96     11332\n",
      "weighted avg       0.99      0.99      0.99     11332\n",
      "\n"
     ]
    },
    {
     "data": {
      "image/png": "[encoded data removed]",
      "text/plain": [
       "<Figure size 360x360 with 2 Axes>"
      ]
     },
     "metadata": {
      "needs_background": "light"
     },
     "output_type": "display_data"
    },
    {
     "name": "stdout",
     "output_type": "stream",
     "text": [
      "Time span of XGBoost: 7.94781756401062\n"
     ]
    }
   ],
   "source": [
    "# XGboost training and prediction\n",
    "start = time.time()\n",
    "\n",
    "xg = xgb.XGBClassifier(n_estimators = 10)\n",
    "xg.fit(X_train,y_train)\n",
    "xg_score=xg.score(X_test,y_test)\n",
    "y_predict=xg.predict(X_test)\n",
    "y_true=y_test\n",
    "print('Accuracy of XGBoost: '+ str(xg_score))\n",
    "precision,recall,fscore,none= precision_recall_fscore_support(y_true, y_predict, average='weighted') \n",
    "print('Precision of XGBoost: '+(str(precision)))\n",
    "print('Recall of XGBoost: '+(str(recall)))\n",
    "print('F1-score of XGBoost: '+(str(fscore)))\n",
    "print(classification_report(y_true,y_predict))\n",
    "cm=confusion_matrix(y_true,y_predict)\n",
    "f,ax=plt.subplots(figsize=(5,5))\n",
    "sns.heatmap(cm,annot=True,linewidth=0.5,linecolor=\"red\",fmt=\".0f\",ax=ax)\n",
    "plt.xlabel(\"y_pred\")\n",
    "plt.ylabel(\"y_true\")\n",
    "plt.show()\n",
    "\n",
    "end = time.time()\n",
    "xg_span = end - start\n",
    "print('Time span of XGBoost: ' + str(xg_span))"
   ]
  },
  {
   "cell_type": "code",
   "execution_count": 20,
   "id": "9da537ca",
   "metadata": {
    "execution": {
     "iopub.execute_input": "2022-05-31T12:08:38.867001Z",
     "iopub.status.busy": "2022-05-31T12:08:38.865784Z",
     "iopub.status.idle": "2022-05-31T12:08:38.942163Z",
     "shell.execute_reply": "2022-05-31T12:08:38.940964Z"
    },
    "papermill": {
     "duration": 0.103533,
     "end_time": "2022-05-31T12:08:38.945170",
     "exception": false,
     "start_time": "2022-05-31T12:08:38.841637",
     "status": "completed"
    },
    "tags": []
   },
   "outputs": [],
   "source": [
    "xg_train=xg.predict(X_train)\n",
    "xg_test=xg.predict(X_test)"
   ]
  },
  {
   "cell_type": "markdown",
   "id": "7ef2ca61",
   "metadata": {
    "papermill": {
     "duration": 0.021485,
     "end_time": "2022-05-31T12:08:38.990807",
     "exception": false,
     "start_time": "2022-05-31T12:08:38.969322",
     "status": "completed"
    },
    "tags": []
   },
   "source": [
    "### Stacking model construction (ensemble for 4 base learners)"
   ]
  },
  {
   "cell_type": "code",
   "execution_count": 21,
   "id": "c3ffdabc",
   "metadata": {
    "collapsed": false,
    "execution": {
     "iopub.execute_input": "2022-05-31T12:08:39.036867Z",
     "iopub.status.busy": "2022-05-31T12:08:39.036348Z",
     "iopub.status.idle": "2022-05-31T12:08:39.050859Z",
     "shell.execute_reply": "2022-05-31T12:08:39.049921Z"
    },
    "jupyter": {
     "outputs_hidden": false
    },
    "papermill": {
     "duration": 0.040505,
     "end_time": "2022-05-31T12:08:39.053306",
     "exception": false,
     "start_time": "2022-05-31T12:08:39.012801",
     "status": "completed"
    },
    "tags": []
   },
   "outputs": [
    {
     "data": {
      "text/html": [
       "<div>\n",
       "<style scoped>\n",
       "    .dataframe tbody tr th:only-of-type {\n",
       "        vertical-align: middle;\n",
       "    }\n",
       "\n",
       "    .dataframe tbody tr th {\n",
       "        vertical-align: top;\n",
       "    }\n",
       "\n",
       "    .dataframe thead th {\n",
       "        text-align: right;\n",
       "    }\n",
       "</style>\n",
       "<table border=\"1\" class=\"dataframe\">\n",
       "  <thead>\n",
       "    <tr style=\"text-align: right;\">\n",
       "      <th></th>\n",
       "      <th>DecisionTree</th>\n",
       "      <th>RandomForest</th>\n",
       "      <th>ExtraTrees</th>\n",
       "      <th>XgBoost</th>\n",
       "    </tr>\n",
       "  </thead>\n",
       "  <tbody>\n",
       "    <tr>\n",
       "      <th>0</th>\n",
       "      <td>5</td>\n",
       "      <td>5</td>\n",
       "      <td>5</td>\n",
       "      <td>5</td>\n",
       "    </tr>\n",
       "    <tr>\n",
       "      <th>1</th>\n",
       "      <td>3</td>\n",
       "      <td>3</td>\n",
       "      <td>3</td>\n",
       "      <td>3</td>\n",
       "    </tr>\n",
       "    <tr>\n",
       "      <th>2</th>\n",
       "      <td>5</td>\n",
       "      <td>5</td>\n",
       "      <td>5</td>\n",
       "      <td>5</td>\n",
       "    </tr>\n",
       "    <tr>\n",
       "      <th>3</th>\n",
       "      <td>3</td>\n",
       "      <td>3</td>\n",
       "      <td>3</td>\n",
       "      <td>3</td>\n",
       "    </tr>\n",
       "    <tr>\n",
       "      <th>4</th>\n",
       "      <td>2</td>\n",
       "      <td>2</td>\n",
       "      <td>2</td>\n",
       "      <td>2</td>\n",
       "    </tr>\n",
       "  </tbody>\n",
       "</table>\n",
       "</div>"
      ],
      "text/plain": [
       "   DecisionTree  RandomForest  ExtraTrees  XgBoost\n",
       "0             5             5           5        5\n",
       "1             3             3           3        3\n",
       "2             5             5           5        5\n",
       "3             3             3           3        3\n",
       "4             2             2           2        2"
      ]
     },
     "execution_count": 21,
     "metadata": {},
     "output_type": "execute_result"
    }
   ],
   "source": [
    "# Use the outputs of 4 base models to construct a new ensemble model\n",
    "base_predictions_train = pd.DataFrame( {\n",
    "    'DecisionTree': dt_train.ravel(),\n",
    "        'RandomForest': rf_train.ravel(),\n",
    "     'ExtraTrees': et_train.ravel(),\n",
    "     'XgBoost': xg_train.ravel(),\n",
    "    })\n",
    "base_predictions_train.head(5)"
   ]
  },
  {
   "cell_type": "code",
   "execution_count": 22,
   "id": "6d293be5",
   "metadata": {
    "execution": {
     "iopub.execute_input": "2022-05-31T12:08:39.101411Z",
     "iopub.status.busy": "2022-05-31T12:08:39.100642Z",
     "iopub.status.idle": "2022-05-31T12:08:39.107643Z",
     "shell.execute_reply": "2022-05-31T12:08:39.106603Z"
    },
    "papermill": {
     "duration": 0.03389,
     "end_time": "2022-05-31T12:08:39.110344",
     "exception": false,
     "start_time": "2022-05-31T12:08:39.076454",
     "status": "completed"
    },
    "tags": []
   },
   "outputs": [],
   "source": [
    "dt_train=dt_train.reshape(-1, 1)\n",
    "et_train=et_train.reshape(-1, 1)\n",
    "rf_train=rf_train.reshape(-1, 1)\n",
    "xg_train=xg_train.reshape(-1, 1)\n",
    "dt_test=dt_test.reshape(-1, 1)\n",
    "et_test=et_test.reshape(-1, 1)\n",
    "rf_test=rf_test.reshape(-1, 1)\n",
    "xg_test=xg_test.reshape(-1, 1)"
   ]
  },
  {
   "cell_type": "code",
   "execution_count": 23,
   "id": "054855df",
   "metadata": {
    "execution": {
     "iopub.execute_input": "2022-05-31T12:08:39.157787Z",
     "iopub.status.busy": "2022-05-31T12:08:39.156777Z",
     "iopub.status.idle": "2022-05-31T12:08:39.164195Z",
     "shell.execute_reply": "2022-05-31T12:08:39.162847Z"
    },
    "papermill": {
     "duration": 0.034152,
     "end_time": "2022-05-31T12:08:39.166981",
     "exception": false,
     "start_time": "2022-05-31T12:08:39.132829",
     "status": "completed"
    },
    "tags": []
   },
   "outputs": [],
   "source": [
    "x_train = np.concatenate(( dt_train, et_train, rf_train, xg_train), axis=1)\n",
    "x_test = np.concatenate(( dt_test, et_test, rf_test, xg_test), axis=1)"
   ]
  },
  {
   "cell_type": "code",
   "execution_count": 24,
   "id": "3fa79e67",
   "metadata": {
    "execution": {
     "iopub.execute_input": "2022-05-31T12:08:39.223229Z",
     "iopub.status.busy": "2022-05-31T12:08:39.221036Z",
     "iopub.status.idle": "2022-05-31T12:08:42.496051Z",
     "shell.execute_reply": "2022-05-31T12:08:42.495013Z"
    },
    "papermill": {
     "duration": 3.306339,
     "end_time": "2022-05-31T12:08:42.499271",
     "exception": false,
     "start_time": "2022-05-31T12:08:39.192932",
     "status": "completed"
    },
    "tags": []
   },
   "outputs": [],
   "source": [
    "stk = xgb.XGBClassifier().fit(x_train, y_train)"
   ]
  },
  {
   "cell_type": "code",
   "execution_count": 25,
   "id": "7e1660f4",
   "metadata": {
    "collapsed": false,
    "execution": {
     "iopub.execute_input": "2022-05-31T12:08:42.547685Z",
     "iopub.status.busy": "2022-05-31T12:08:42.546640Z",
     "iopub.status.idle": "2022-05-31T12:08:43.276149Z",
     "shell.execute_reply": "2022-05-31T12:08:43.274783Z"
    },
    "jupyter": {
     "outputs_hidden": false
    },
    "papermill": {
     "duration": 0.755618,
     "end_time": "2022-05-31T12:08:43.278594",
     "exception": false,
     "start_time": "2022-05-31T12:08:42.522976",
     "status": "completed"
    },
    "tags": []
   },
   "outputs": [
    {
     "name": "stdout",
     "output_type": "stream",
     "text": [
      "Accuracy of Stacking: 0.9954994705259442\n",
      "Precision of Stacking: 0.9955091865733592\n",
      "Recall of Stacking: 0.9954994705259442\n",
      "F1-score of Stacking: 0.9954831007745139\n",
      "              precision    recall  f1-score   support\n",
      "\n",
      "           0       1.00      0.99      0.99      4546\n",
      "           1       0.99      0.98      0.98       393\n",
      "           2       0.98      1.00      0.99       554\n",
      "           3       1.00      1.00      1.00      3807\n",
      "           4       1.00      0.71      0.83         7\n",
      "           5       1.00      1.00      1.00      1589\n",
      "           6       0.99      0.99      0.99       436\n",
      "\n",
      "    accuracy                           1.00     11332\n",
      "   macro avg       0.99      0.95      0.97     11332\n",
      "weighted avg       1.00      1.00      1.00     11332\n",
      "\n"
     ]
    },
    {
     "data": {
      "image/png": "[encoded data removed]",
      "text/plain": [
       "<Figure size 360x360 with 2 Axes>"
      ]
     },
     "metadata": {
      "needs_background": "light"
     },
     "output_type": "display_data"
    }
   ],
   "source": [
    "y_predict=stk.predict(x_test)\n",
    "y_true=y_test\n",
    "stk_score=accuracy_score(y_true,y_predict)\n",
    "print('Accuracy of Stacking: '+ str(stk_score))\n",
    "precision,recall,fscore,none= precision_recall_fscore_support(y_true, y_predict, average='weighted') \n",
    "print('Precision of Stacking: '+(str(precision)))\n",
    "print('Recall of Stacking: '+(str(recall)))\n",
    "print('F1-score of Stacking: '+(str(fscore)))\n",
    "print(classification_report(y_true,y_predict))\n",
    "cm=confusion_matrix(y_true,y_predict)\n",
    "f,ax=plt.subplots(figsize=(5,5))\n",
    "sns.heatmap(cm,annot=True,linewidth=0.5,linecolor=\"red\",fmt=\".0f\",ax=ax)\n",
    "plt.xlabel(\"y_pred\")\n",
    "plt.ylabel(\"y_true\")\n",
    "plt.show()"
   ]
  },
  {
   "cell_type": "code",
   "execution_count": 26,
   "id": "1c1cd4d9",
   "metadata": {
    "execution": {
     "iopub.execute_input": "2022-05-31T12:08:43.327191Z",
     "iopub.status.busy": "2022-05-31T12:08:43.326348Z",
     "iopub.status.idle": "2022-05-31T12:08:43.331626Z",
     "shell.execute_reply": "2022-05-31T12:08:43.330739Z"
    },
    "papermill": {
     "duration": 0.032324,
     "end_time": "2022-05-31T12:08:43.333917",
     "exception": false,
     "start_time": "2022-05-31T12:08:43.301593",
     "status": "completed"
    },
    "tags": []
   },
   "outputs": [],
   "source": [
    "del X_train\n",
    "del X_test\n",
    "del y_train\n",
    "del y_test"
   ]
  },
  {
   "cell_type": "markdown",
   "id": "1b88eb28",
   "metadata": {
    "papermill": {
     "duration": 0.0218,
     "end_time": "2022-05-31T12:08:43.378125",
     "exception": false,
     "start_time": "2022-05-31T12:08:43.356325",
     "status": "completed"
    },
    "tags": []
   },
   "source": [
    "## Feature Selection"
   ]
  },
  {
   "cell_type": "markdown",
   "id": "55fab170",
   "metadata": {
    "papermill": {
     "duration": 0.02179,
     "end_time": "2022-05-31T12:08:43.422645",
     "exception": false,
     "start_time": "2022-05-31T12:08:43.400855",
     "status": "completed"
    },
    "tags": []
   },
   "source": [
    "### Feature importance"
   ]
  },
  {
   "cell_type": "code",
   "execution_count": 27,
   "id": "1fa42714",
   "metadata": {
    "collapsed": false,
    "execution": {
     "iopub.execute_input": "2022-05-31T12:08:43.470124Z",
     "iopub.status.busy": "2022-05-31T12:08:43.469313Z",
     "iopub.status.idle": "2022-05-31T12:08:43.504104Z",
     "shell.execute_reply": "2022-05-31T12:08:43.502919Z"
    },
    "jupyter": {
     "outputs_hidden": false
    },
    "papermill": {
     "duration": 0.062263,
     "end_time": "2022-05-31T12:08:43.506917",
     "exception": false,
     "start_time": "2022-05-31T12:08:43.444654",
     "status": "completed"
    },
    "tags": []
   },
   "outputs": [],
   "source": [
    "# Save the feature importance lists generated by four tree-based algorithms\n",
    "dt_feature = dt.feature_importances_\n",
    "rf_feature = rf.feature_importances_\n",
    "et_feature = et.feature_importances_\n",
    "xgb_feature = xg.feature_importances_"
   ]
  },
  {
   "cell_type": "code",
   "execution_count": 28,
   "id": "de9a5722",
   "metadata": {
    "collapsed": false,
    "execution": {
     "iopub.execute_input": "2022-05-31T12:08:43.554831Z",
     "iopub.status.busy": "2022-05-31T12:08:43.553706Z",
     "iopub.status.idle": "2022-05-31T12:08:43.559568Z",
     "shell.execute_reply": "2022-05-31T12:08:43.558461Z"
    },
    "jupyter": {
     "outputs_hidden": false
    },
    "papermill": {
     "duration": 0.032349,
     "end_time": "2022-05-31T12:08:43.561851",
     "exception": false,
     "start_time": "2022-05-31T12:08:43.529502",
     "status": "completed"
    },
    "tags": []
   },
   "outputs": [],
   "source": [
    "# calculate the average importance value of each feature\n",
    "avg_feature = (dt_feature + rf_feature + et_feature + xgb_feature)/4"
   ]
  },
  {
   "cell_type": "code",
   "execution_count": 29,
   "id": "ec2f421e",
   "metadata": {
    "collapsed": false,
    "execution": {
     "iopub.execute_input": "2022-05-31T12:08:43.610203Z",
     "iopub.status.busy": "2022-05-31T12:08:43.609319Z",
     "iopub.status.idle": "2022-05-31T12:08:43.638603Z",
     "shell.execute_reply": "2022-05-31T12:08:43.637601Z"
    },
    "jupyter": {
     "outputs_hidden": false
    },
    "papermill": {
     "duration": 0.056372,
     "end_time": "2022-05-31T12:08:43.641074",
     "exception": false,
     "start_time": "2022-05-31T12:08:43.584702",
     "status": "completed"
    },
    "tags": []
   },
   "outputs": [
    {
     "name": "stdout",
     "output_type": "stream",
     "text": [
      "Features sorted by their score:\n",
      "[(0.1189, 'Bwd Packet Length Std'), (0.103, 'Bwd Packet Length Min'), (0.0601, 'Average Packet Size'), (0.0503, 'Init_Win_bytes_backward'), (0.0418, 'Init_Win_bytes_forward'), (0.036, 'PSH Flag Count'), (0.0346, 'Bwd Packets/s'), (0.0336, 'Avg Bwd Segment Size'), (0.0273, 'Bwd Packet Length Mean'), (0.0256, 'Packet Length Std'), (0.0229, 'Packet Length Mean'), (0.0211, 'Fwd Header Length.1'), (0.021, 'Bwd Header Length'), (0.0176, 'Total Length of Bwd Packets'), (0.0173, 'min_seg_size_forward'), (0.0173, 'Bwd Packet Length Max'), (0.0169, 'Fwd Header Length'), (0.0167, 'act_data_pkt_fwd'), (0.0163, 'Max Packet Length'), (0.0146, 'ACK Flag Count'), (0.0143, 'Packet Length Variance'), (0.0143, 'Min Packet Length'), (0.0132, 'Total Length of Fwd Packets'), (0.0111, 'Idle Max'), (0.0107, 'Total Fwd Packets'), (0.0107, 'Fwd IAT Max'), (0.0099, 'Fwd Packet Length Mean'), (0.0099, 'Fwd Packet Length Max'), (0.0098, 'Fwd IAT Mean'), (0.0093, 'URG Flag Count'), (0.0093, 'Fwd PSH Flags'), (0.009, 'Total Backward Packets'), (0.0086, 'Flow IAT Max'), (0.0081, 'Fwd IAT Min'), (0.0079, 'Fwd IAT Std'), (0.0077, 'Subflow Fwd Bytes'), (0.0075, 'Fwd IAT Total'), (0.0074, 'Fwd Packet Length Min'), (0.0073, 'Subflow Fwd Packets'), (0.0073, 'Subflow Bwd Packets'), (0.0071, 'Flow Duration'), (0.0071, 'Avg Fwd Segment Size'), (0.007, 'Down/Up Ratio'), (0.0067, 'Flow IAT Std'), (0.006, 'Subflow Bwd Bytes'), (0.006, 'Fwd Packets/s'), (0.0059, 'Bwd IAT Total'), (0.0058, 'Flow IAT Mean'), (0.0055, 'Flow IAT Min'), (0.0051, 'FIN Flag Count'), (0.0044, 'Fwd Packet Length Std'), (0.0041, 'Idle Mean'), (0.0037, 'Bwd IAT Min'), (0.0036, 'Bwd IAT Max'), (0.0031, 'SYN Flag Count'), (0.0029, 'Bwd IAT Mean'), (0.0027, 'Idle Min'), (0.0027, 'Bwd IAT Std'), (0.0012, 'Active Min'), (0.0011, 'Active Mean'), (0.001, 'Idle Std'), (0.0007, 'Active Max'), (0.0002, 'Active Std'), (0.0, 'RST Flag Count'), (0.0, 'Fwd URG Flags'), (0.0, 'Fwd Avg Packets/Bulk'), (0.0, 'Fwd Avg Bytes/Bulk'), (0.0, 'Fwd Avg Bulk Rate'), (0.0, 'Flow Packets/s'), (0.0, 'Flow Bytes/s'), (0.0, 'ECE Flag Count'), (0.0, 'CWE Flag Count'), (0.0, 'Bwd URG Flags'), (0.0, 'Bwd PSH Flags'), (0.0, 'Bwd Avg Packets/Bulk'), (0.0, 'Bwd Avg Bytes/Bulk'), (0.0, 'Bwd Avg Bulk Rate')]\n"
     ]
    }
   ],
   "source": [
    "feature=(df.drop(['Label'],axis=1)).columns.values\n",
    "print (\"Features sorted by their score:\")\n",
    "print (sorted(zip(map(lambda x: round(x, 4), avg_feature), feature), reverse=True))"
   ]
  },
  {
   "cell_type": "code",
   "execution_count": 30,
   "id": "5afd002a",
   "metadata": {
    "execution": {
     "iopub.execute_input": "2022-05-31T12:08:43.687344Z",
     "iopub.status.busy": "2022-05-31T12:08:43.686862Z",
     "iopub.status.idle": "2022-05-31T12:08:43.693310Z",
     "shell.execute_reply": "2022-05-31T12:08:43.692243Z"
    },
    "papermill": {
     "duration": 0.032361,
     "end_time": "2022-05-31T12:08:43.695445",
     "exception": false,
     "start_time": "2022-05-31T12:08:43.663084",
     "status": "completed"
    },
    "tags": []
   },
   "outputs": [],
   "source": [
    "f_list = sorted(zip(map(lambda x: round(x, 4), avg_feature), feature), reverse=True)"
   ]
  },
  {
   "cell_type": "code",
   "execution_count": 31,
   "id": "bff636cb",
   "metadata": {
    "collapsed": false,
    "execution": {
     "iopub.execute_input": "2022-05-31T12:08:43.742594Z",
     "iopub.status.busy": "2022-05-31T12:08:43.741854Z",
     "iopub.status.idle": "2022-05-31T12:08:43.748020Z",
     "shell.execute_reply": "2022-05-31T12:08:43.746953Z"
    },
    "jupyter": {
     "outputs_hidden": false
    },
    "papermill": {
     "duration": 0.032698,
     "end_time": "2022-05-31T12:08:43.750573",
     "exception": false,
     "start_time": "2022-05-31T12:08:43.717875",
     "status": "completed"
    },
    "scrolled": true,
    "tags": []
   },
   "outputs": [
    {
     "data": {
      "text/plain": [
       "77"
      ]
     },
     "execution_count": 31,
     "metadata": {},
     "output_type": "execute_result"
    }
   ],
   "source": [
    "len(f_list)"
   ]
  },
  {
   "cell_type": "code",
   "execution_count": 32,
   "id": "756c9bf0",
   "metadata": {
    "collapsed": false,
    "execution": {
     "iopub.execute_input": "2022-05-31T12:08:43.799240Z",
     "iopub.status.busy": "2022-05-31T12:08:43.798495Z",
     "iopub.status.idle": "2022-05-31T12:08:43.804573Z",
     "shell.execute_reply": "2022-05-31T12:08:43.803680Z"
    },
    "jupyter": {
     "outputs_hidden": false
    },
    "papermill": {
     "duration": 0.033675,
     "end_time": "2022-05-31T12:08:43.807032",
     "exception": false,
     "start_time": "2022-05-31T12:08:43.773357",
     "status": "completed"
    },
    "tags": []
   },
   "outputs": [],
   "source": [
    "# Select the important features from top-importance to bottom-importance until the accumulated importance reaches 0.9 (out of 1)\n",
    "Sum = 0\n",
    "fs = []\n",
    "for i in range(0, len(f_list)):\n",
    "    Sum = Sum + f_list[i][0]\n",
    "    fs.append(f_list[i][1])\n",
    "    if Sum>=0.9:\n",
    "        break        "
   ]
  },
  {
   "cell_type": "code",
   "execution_count": 33,
   "id": "1044a381",
   "metadata": {
    "collapsed": false,
    "execution": {
     "iopub.execute_input": "2022-05-31T12:08:43.854913Z",
     "iopub.status.busy": "2022-05-31T12:08:43.854153Z",
     "iopub.status.idle": "2022-05-31T12:08:43.870609Z",
     "shell.execute_reply": "2022-05-31T12:08:43.869756Z"
    },
    "jupyter": {
     "outputs_hidden": false
    },
    "papermill": {
     "duration": 0.043944,
     "end_time": "2022-05-31T12:08:43.873515",
     "exception": false,
     "start_time": "2022-05-31T12:08:43.829571",
     "status": "completed"
    },
    "tags": []
   },
   "outputs": [],
   "source": [
    "X_fs = df[fs].values"
   ]
  },
  {
   "cell_type": "code",
   "execution_count": 34,
   "id": "1345f3f0",
   "metadata": {
    "execution": {
     "iopub.execute_input": "2022-05-31T12:08:43.921808Z",
     "iopub.status.busy": "2022-05-31T12:08:43.921000Z",
     "iopub.status.idle": "2022-05-31T12:08:43.925545Z",
     "shell.execute_reply": "2022-05-31T12:08:43.924710Z"
    },
    "papermill": {
     "duration": 0.032397,
     "end_time": "2022-05-31T12:08:43.928580",
     "exception": false,
     "start_time": "2022-05-31T12:08:43.896183",
     "status": "completed"
    },
    "tags": []
   },
   "outputs": [],
   "source": [
    "del df # release memory"
   ]
  },
  {
   "cell_type": "code",
   "execution_count": 35,
   "id": "8cb4f260",
   "metadata": {
    "execution": {
     "iopub.execute_input": "2022-05-31T12:08:43.976998Z",
     "iopub.status.busy": "2022-05-31T12:08:43.975729Z",
     "iopub.status.idle": "2022-05-31T12:08:44.051637Z",
     "shell.execute_reply": "2022-05-31T12:08:44.050499Z"
    },
    "papermill": {
     "duration": 0.103183,
     "end_time": "2022-05-31T12:08:44.054435",
     "exception": false,
     "start_time": "2022-05-31T12:08:43.951252",
     "status": "completed"
    },
    "tags": []
   },
   "outputs": [],
   "source": [
    "X_train, X_test, y_train, y_test = train_test_split(X_fs,y, train_size = 0.8, test_size = 0.2, random_state = 0,stratify = y)"
   ]
  },
  {
   "cell_type": "code",
   "execution_count": 36,
   "id": "4b3a7fdb",
   "metadata": {
    "collapsed": false,
    "execution": {
     "iopub.execute_input": "2022-05-31T12:08:44.105328Z",
     "iopub.status.busy": "2022-05-31T12:08:44.104863Z",
     "iopub.status.idle": "2022-05-31T12:08:44.111692Z",
     "shell.execute_reply": "2022-05-31T12:08:44.110634Z"
    },
    "jupyter": {
     "outputs_hidden": false
    },
    "papermill": {
     "duration": 0.036255,
     "end_time": "2022-05-31T12:08:44.114199",
     "exception": false,
     "start_time": "2022-05-31T12:08:44.077944",
     "status": "completed"
    },
    "tags": []
   },
   "outputs": [
    {
     "data": {
      "text/plain": [
       "(45328, 40)"
      ]
     },
     "execution_count": 36,
     "metadata": {},
     "output_type": "execute_result"
    }
   ],
   "source": [
    "X_train.shape"
   ]
  },
  {
   "cell_type": "code",
   "execution_count": 37,
   "id": "3ef5bb14",
   "metadata": {
    "collapsed": false,
    "execution": {
     "iopub.execute_input": "2022-05-31T12:08:44.165333Z",
     "iopub.status.busy": "2022-05-31T12:08:44.164828Z",
     "iopub.status.idle": "2022-05-31T12:08:44.176725Z",
     "shell.execute_reply": "2022-05-31T12:08:44.174584Z"
    },
    "jupyter": {
     "outputs_hidden": false
    },
    "papermill": {
     "duration": 0.041066,
     "end_time": "2022-05-31T12:08:44.179624",
     "exception": false,
     "start_time": "2022-05-31T12:08:44.138558",
     "status": "completed"
    },
    "tags": []
   },
   "outputs": [
    {
     "data": {
      "text/plain": [
       "0    18185\n",
       "3    15227\n",
       "5     6357\n",
       "2     2213\n",
       "6     1744\n",
       "1     1573\n",
       "4       29\n",
       "dtype: int64"
      ]
     },
     "execution_count": 37,
     "metadata": {},
     "output_type": "execute_result"
    }
   ],
   "source": [
    "pd.Series(y_train).value_counts()"
   ]
  },
  {
   "cell_type": "markdown",
   "id": "6e4cec25",
   "metadata": {
    "papermill": {
     "duration": 0.029035,
     "end_time": "2022-05-31T12:08:44.236108",
     "exception": false,
     "start_time": "2022-05-31T12:08:44.207073",
     "status": "completed"
    },
    "tags": []
   },
   "source": [
    "### Oversampling by SMOTE"
   ]
  },
  {
   "cell_type": "code",
   "execution_count": 38,
   "id": "f874e3ad",
   "metadata": {
    "collapsed": false,
    "execution": {
     "iopub.execute_input": "2022-05-31T12:08:44.296489Z",
     "iopub.status.busy": "2022-05-31T12:08:44.295705Z",
     "iopub.status.idle": "2022-05-31T12:08:44.301801Z",
     "shell.execute_reply": "2022-05-31T12:08:44.300820Z"
    },
    "jupyter": {
     "outputs_hidden": false
    },
    "papermill": {
     "duration": 0.041627,
     "end_time": "2022-05-31T12:08:44.304612",
     "exception": false,
     "start_time": "2022-05-31T12:08:44.262985",
     "status": "completed"
    },
    "tags": []
   },
   "outputs": [],
   "source": [
    "from imblearn.over_sampling import SMOTE\n",
    "smote=SMOTE(n_jobs=-1,sampling_strategy={4:1500})"
   ]
  },
  {
   "cell_type": "code",
   "execution_count": 39,
   "id": "73c68adc",
   "metadata": {
    "execution": {
     "iopub.execute_input": "2022-05-31T12:08:44.356602Z",
     "iopub.status.busy": "2022-05-31T12:08:44.355496Z",
     "iopub.status.idle": "2022-05-31T12:08:44.393077Z",
     "shell.execute_reply": "2022-05-31T12:08:44.391820Z"
    },
    "papermill": {
     "duration": 0.066311,
     "end_time": "2022-05-31T12:08:44.396041",
     "exception": false,
     "start_time": "2022-05-31T12:08:44.329730",
     "status": "completed"
    },
    "tags": []
   },
   "outputs": [],
   "source": [
    "X_train, y_train = smote.fit_resample(X_train, y_train)"
   ]
  },
  {
   "cell_type": "code",
   "execution_count": 40,
   "id": "f716f58b",
   "metadata": {
    "collapsed": false,
    "execution": {
     "iopub.execute_input": "2022-05-31T12:08:44.444600Z",
     "iopub.status.busy": "2022-05-31T12:08:44.443853Z",
     "iopub.status.idle": "2022-05-31T12:08:44.452662Z",
     "shell.execute_reply": "2022-05-31T12:08:44.451788Z"
    },
    "jupyter": {
     "outputs_hidden": false
    },
    "papermill": {
     "duration": 0.035919,
     "end_time": "2022-05-31T12:08:44.454994",
     "exception": false,
     "start_time": "2022-05-31T12:08:44.419075",
     "status": "completed"
    },
    "scrolled": true,
    "tags": []
   },
   "outputs": [
    {
     "data": {
      "text/plain": [
       "0    18185\n",
       "3    15227\n",
       "5     6357\n",
       "2     2213\n",
       "6     1744\n",
       "1     1573\n",
       "4     1500\n",
       "dtype: int64"
      ]
     },
     "execution_count": 40,
     "metadata": {},
     "output_type": "execute_result"
    }
   ],
   "source": [
    "pd.Series(y_train).value_counts()"
   ]
  },
  {
   "cell_type": "markdown",
   "id": "ffe8b8ae",
   "metadata": {
    "papermill": {
     "duration": 0.022768,
     "end_time": "2022-05-31T12:08:44.501120",
     "exception": false,
     "start_time": "2022-05-31T12:08:44.478352",
     "status": "completed"
    },
    "tags": []
   },
   "source": [
    "## Machine learning model training after feature selection"
   ]
  },
  {
   "cell_type": "code",
   "execution_count": 41,
   "id": "edaf8a55",
   "metadata": {
    "execution": {
     "iopub.execute_input": "2022-05-31T12:08:44.550607Z",
     "iopub.status.busy": "2022-05-31T12:08:44.549820Z",
     "iopub.status.idle": "2022-05-31T12:09:04.284341Z",
     "shell.execute_reply": "2022-05-31T12:09:04.283156Z"
    },
    "papermill": {
     "duration": 19.762421,
     "end_time": "2022-05-31T12:09:04.287567",
     "exception": false,
     "start_time": "2022-05-31T12:08:44.525146",
     "status": "completed"
    },
    "tags": []
   },
   "outputs": [
    {
     "name": "stdout",
     "output_type": "stream",
     "text": [
      "Accuracy of KNN: 0.9922343805153547\n",
      "Precision of KNN: 0.992316813708562\n",
      "Recall of KNN: 0.9922343805153547\n",
      "F1-score of KNN: 0.9922671172996343\n",
      "              precision    recall  f1-score   support\n",
      "\n",
      "           0       0.99      0.99      0.99      4546\n",
      "           1       0.97      0.96      0.96       393\n",
      "           2       0.99      1.00      0.99       554\n",
      "           3       1.00      1.00      1.00      3807\n",
      "           4       0.44      0.57      0.50         7\n",
      "           5       1.00      1.00      1.00      1589\n",
      "           6       0.98      0.98      0.98       436\n",
      "\n",
      "    accuracy                           0.99     11332\n",
      "   macro avg       0.91      0.93      0.92     11332\n",
      "weighted avg       0.99      0.99      0.99     11332\n",
      "\n"
     ]
    },
    {
     "data": {
      "image/png": "[encoded data removed]",
      "text/plain": [
       "<Figure size 360x360 with 2 Axes>"
      ]
     },
     "metadata": {
      "needs_background": "light"
     },
     "output_type": "display_data"
    },
    {
     "name": "stdout",
     "output_type": "stream",
     "text": [
      "Time span of KNN: 19.72236680984497\n"
     ]
    }
   ],
   "source": [
    "# KNN training and prediction\n",
    "start = time.time()\n",
    "\n",
    "knn = KNeighborsClassifier(n_neighbors=2)\n",
    "knn.fit(X_train, y_train)\n",
    "knn_score=knn.score(X_test,y_test)\n",
    "y_predict=knn.predict(X_test)\n",
    "y_true=y_test\n",
    "print('Accuracy of KNN: '+ str(knn_score))\n",
    "precision,recall,fscore,none= precision_recall_fscore_support(y_true, y_predict, average='weighted') \n",
    "print('Precision of KNN: '+(str(precision)))\n",
    "print('Recall of KNN: '+(str(recall)))\n",
    "print('F1-score of KNN: '+(str(fscore)))\n",
    "print(classification_report(y_true,y_predict))\n",
    "cm=confusion_matrix(y_true,y_predict)\n",
    "f,ax=plt.subplots(figsize=(5,5))\n",
    "sns.heatmap(cm,annot=True,linewidth=0.5,linecolor=\"red\",fmt=\".0f\",ax=ax)\n",
    "plt.xlabel(\"y_pred\")\n",
    "plt.ylabel(\"y_true\")\n",
    "plt.show()\n",
    "\n",
    "\n",
    "end = time.time()\n",
    "knn_span = end - start\n",
    "print('Time span of KNN: ' + str(knn_span))"
   ]
  },
  {
   "cell_type": "code",
   "execution_count": 42,
   "id": "2fe70fac",
   "metadata": {
    "execution": {
     "iopub.execute_input": "2022-05-31T12:09:04.337357Z",
     "iopub.status.busy": "2022-05-31T12:09:04.336689Z",
     "iopub.status.idle": "2022-05-31T12:11:10.531995Z",
     "shell.execute_reply": "2022-05-31T12:11:10.530752Z"
    },
    "papermill": {
     "duration": 126.223872,
     "end_time": "2022-05-31T12:11:10.535278",
     "exception": false,
     "start_time": "2022-05-31T12:09:04.311406",
     "status": "completed"
    },
    "tags": []
   },
   "outputs": [
    {
     "name": "stdout",
     "output_type": "stream",
     "text": [
      "Accuracy of SVM: 0.8587186727850336\n",
      "Precision of SVM: 0.8644560786004941\n",
      "Recall of SVM: 0.8587186727850336\n",
      "F1-score of SVM: 0.844012596902354\n",
      "              precision    recall  f1-score   support\n",
      "\n",
      "           0       0.86      0.82      0.84      4546\n",
      "           1       1.00      0.03      0.05       393\n",
      "           2       0.69      0.78      0.73       554\n",
      "           3       0.88      0.95      0.91      3807\n",
      "           4       0.33      0.29      0.31         7\n",
      "           5       0.85      0.99      0.91      1589\n",
      "           6       0.93      0.82      0.87       436\n",
      "\n",
      "    accuracy                           0.86     11332\n",
      "   macro avg       0.79      0.67      0.66     11332\n",
      "weighted avg       0.86      0.86      0.84     11332\n",
      "\n"
     ]
    },
    {
     "data": {
      "image/png": "[encoded data removed]",
      "text/plain": [
       "<Figure size 360x360 with 2 Axes>"
      ]
     },
     "metadata": {
      "needs_background": "light"
     },
     "output_type": "display_data"
    },
    {
     "name": "stdout",
     "output_type": "stream",
     "text": [
      "Time span of SVM: 126.18405055999756\n"
     ]
    }
   ],
   "source": [
    "start = time.time()\n",
    "\n",
    "svm = svm.SVC(kernel='linear') # Linear Kernel\n",
    "svm.fit(X_train, y_train)\n",
    "svm_score=svm.score(X_test,y_test)\n",
    "y_predict=svm.predict(X_test)\n",
    "y_true=y_test\n",
    "print('Accuracy of SVM: '+ str(svm_score))\n",
    "precision,recall,fscore,none= precision_recall_fscore_support(y_true, y_predict, average='weighted') \n",
    "print('Precision of SVM: '+(str(precision)))\n",
    "print('Recall of SVM: '+(str(recall)))\n",
    "print('F1-score of SVM: '+(str(fscore)))\n",
    "print(classification_report(y_true,y_predict))\n",
    "cm=confusion_matrix(y_true,y_predict)\n",
    "f,ax=plt.subplots(figsize=(5,5))\n",
    "sns.heatmap(cm,annot=True,linewidth=0.5,linecolor=\"red\",fmt=\".0f\",ax=ax)\n",
    "plt.xlabel(\"y_pred\")\n",
    "plt.ylabel(\"y_true\")\n",
    "plt.show()\n",
    "\n",
    "end = time.time()\n",
    "svm_span = end - start\n",
    "print('Time span of SVM: ' + str(svm_span))"
   ]
  },
  {
   "cell_type": "code",
   "execution_count": 43,
   "id": "10f73d3a",
   "metadata": {
    "collapsed": false,
    "execution": {
     "iopub.execute_input": "2022-05-31T12:11:10.585919Z",
     "iopub.status.busy": "2022-05-31T12:11:10.585190Z",
     "iopub.status.idle": "2022-05-31T12:11:11.673189Z",
     "shell.execute_reply": "2022-05-31T12:11:11.672109Z"
    },
    "jupyter": {
     "outputs_hidden": false
    },
    "papermill": {
     "duration": 1.117032,
     "end_time": "2022-05-31T12:11:11.676324",
     "exception": false,
     "start_time": "2022-05-31T12:11:10.559292",
     "status": "completed"
    },
    "tags": []
   },
   "outputs": [
    {
     "name": "stdout",
     "output_type": "stream",
     "text": [
      "Accuracy of DT: 0.9958524532297918\n",
      "Precision of DT: 0.9958507677958502\n",
      "Recall of DT: 0.9958524532297918\n",
      "F1-score of DT: 0.9958478099567875\n",
      "              precision    recall  f1-score   support\n",
      "\n",
      "           0       1.00      0.99      1.00      4546\n",
      "           1       0.99      0.98      0.98       393\n",
      "           2       0.99      1.00      1.00       554\n",
      "           3       1.00      1.00      1.00      3807\n",
      "           4       0.86      0.86      0.86         7\n",
      "           5       1.00      1.00      1.00      1589\n",
      "           6       0.99      0.98      0.99       436\n",
      "\n",
      "    accuracy                           1.00     11332\n",
      "   macro avg       0.97      0.97      0.97     11332\n",
      "weighted avg       1.00      1.00      1.00     11332\n",
      "\n"
     ]
    },
    {
     "data": {
      "image/png": "[encoded data removed]",
      "text/plain": [
       "<Figure size 360x360 with 2 Axes>"
      ]
     },
     "metadata": {
      "needs_background": "light"
     },
     "output_type": "display_data"
    },
    {
     "name": "stdout",
     "output_type": "stream",
     "text": [
      "Time span of DT: 1.0762479305267334\n"
     ]
    }
   ],
   "source": [
    "# Decision tree training and prediction\n",
    "start = time.time()\n",
    "\n",
    "dt = DecisionTreeClassifier(random_state = 0)\n",
    "dt.fit(X_train,y_train) \n",
    "dt_score=dt.score(X_test,y_test)\n",
    "y_predict=dt.predict(X_test)\n",
    "y_true=y_test\n",
    "print('Accuracy of DT: '+ str(dt_score))\n",
    "precision,recall,fscore,none= precision_recall_fscore_support(y_true, y_predict, average='weighted') \n",
    "print('Precision of DT: '+(str(precision)))\n",
    "print('Recall of DT: '+(str(recall)))\n",
    "print('F1-score of DT: '+(str(fscore)))\n",
    "print(classification_report(y_true,y_predict))\n",
    "cm=confusion_matrix(y_true,y_predict)\n",
    "f,ax=plt.subplots(figsize=(5,5))\n",
    "sns.heatmap(cm,annot=True,linewidth=0.5,linecolor=\"red\",fmt=\".0f\",ax=ax)\n",
    "plt.xlabel(\"y_pred\")\n",
    "plt.ylabel(\"y_true\")\n",
    "plt.show()\n",
    "\n",
    "end = time.time()\n",
    "dt_span = end - start\n",
    "print('Time span of DT: ' + str(dt_span))"
   ]
  },
  {
   "cell_type": "code",
   "execution_count": 44,
   "id": "210398f4",
   "metadata": {
    "execution": {
     "iopub.execute_input": "2022-05-31T12:11:11.728961Z",
     "iopub.status.busy": "2022-05-31T12:11:11.728443Z",
     "iopub.status.idle": "2022-05-31T12:11:11.746249Z",
     "shell.execute_reply": "2022-05-31T12:11:11.745235Z"
    },
    "papermill": {
     "duration": 0.046854,
     "end_time": "2022-05-31T12:11:11.748878",
     "exception": false,
     "start_time": "2022-05-31T12:11:11.702024",
     "status": "completed"
    },
    "tags": []
   },
   "outputs": [],
   "source": [
    "dt_train=dt.predict(X_train)\n",
    "dt_test=dt.predict(X_test)"
   ]
  },
  {
   "cell_type": "code",
   "execution_count": 45,
   "id": "9ca3add5",
   "metadata": {
    "collapsed": false,
    "execution": {
     "iopub.execute_input": "2022-05-31T12:11:11.801102Z",
     "iopub.status.busy": "2022-05-31T12:11:11.800096Z",
     "iopub.status.idle": "2022-05-31T12:11:19.650539Z",
     "shell.execute_reply": "2022-05-31T12:11:19.649044Z"
    },
    "jupyter": {
     "outputs_hidden": false
    },
    "papermill": {
     "duration": 7.87921,
     "end_time": "2022-05-31T12:11:19.652790",
     "exception": false,
     "start_time": "2022-05-31T12:11:11.773580",
     "status": "completed"
    },
    "tags": []
   },
   "outputs": [
    {
     "name": "stdout",
     "output_type": "stream",
     "text": [
      "Accuracy of RF: 0.9967349099894105\n",
      "Precision of RF: 0.9967178570670523\n",
      "Recall of RF: 0.9967349099894105\n",
      "F1-score of RF: 0.9967203376747701\n",
      "              precision    recall  f1-score   support\n",
      "\n",
      "           0       1.00      1.00      1.00      4546\n",
      "           1       0.99      0.98      0.98       393\n",
      "           2       1.00      1.00      1.00       554\n",
      "           3       1.00      1.00      1.00      3807\n",
      "           4       0.83      0.71      0.77         7\n",
      "           5       1.00      1.00      1.00      1589\n",
      "           6       1.00      0.98      0.99       436\n",
      "\n",
      "    accuracy                           1.00     11332\n",
      "   macro avg       0.97      0.95      0.96     11332\n",
      "weighted avg       1.00      1.00      1.00     11332\n",
      "\n"
     ]
    },
    {
     "data": {
      "image/png": "[encoded data removed]",
      "text/plain": [
       "<Figure size 360x360 with 2 Axes>"
      ]
     },
     "metadata": {
      "needs_background": "light"
     },
     "output_type": "display_data"
    },
    {
     "name": "stdout",
     "output_type": "stream",
     "text": [
      "Time span of RF: 7.837737560272217\n"
     ]
    }
   ],
   "source": [
    "# Random Forest training and prediction\n",
    "start = time.time()\n",
    "\n",
    "rf = RandomForestClassifier(random_state = 0)\n",
    "rf.fit(X_train,y_train) \n",
    "rf_score=rf.score(X_test,y_test)\n",
    "y_predict=rf.predict(X_test)\n",
    "y_true=y_test\n",
    "print('Accuracy of RF: '+ str(rf_score))\n",
    "precision,recall,fscore,none= precision_recall_fscore_support(y_true, y_predict, average='weighted') \n",
    "print('Precision of RF: '+(str(precision)))\n",
    "print('Recall of RF: '+(str(recall)))\n",
    "print('F1-score of RF: '+(str(fscore)))\n",
    "print(classification_report(y_true,y_predict))\n",
    "cm=confusion_matrix(y_true,y_predict)\n",
    "f,ax=plt.subplots(figsize=(5,5))\n",
    "sns.heatmap(cm,annot=True,linewidth=0.5,linecolor=\"red\",fmt=\".0f\",ax=ax)\n",
    "plt.xlabel(\"y_pred\")\n",
    "plt.ylabel(\"y_true\")\n",
    "plt.show()\n",
    "\n",
    "end = time.time()\n",
    "rf_span = end - start\n",
    "print('Time span of RF: ' + str(rf_span))"
   ]
  },
  {
   "cell_type": "code",
   "execution_count": 46,
   "id": "5dcf0b2a",
   "metadata": {
    "execution": {
     "iopub.execute_input": "2022-05-31T12:11:19.706491Z",
     "iopub.status.busy": "2022-05-31T12:11:19.705980Z",
     "iopub.status.idle": "2022-05-31T12:11:20.558862Z",
     "shell.execute_reply": "2022-05-31T12:11:20.557565Z"
    },
    "papermill": {
     "duration": 0.883519,
     "end_time": "2022-05-31T12:11:20.561640",
     "exception": false,
     "start_time": "2022-05-31T12:11:19.678121",
     "status": "completed"
    },
    "tags": []
   },
   "outputs": [],
   "source": [
    "rf_train=rf.predict(X_train)\n",
    "rf_test=rf.predict(X_test)"
   ]
  },
  {
   "cell_type": "code",
   "execution_count": 47,
   "id": "f790e844",
   "metadata": {
    "collapsed": false,
    "execution": {
     "iopub.execute_input": "2022-05-31T12:11:20.617193Z",
     "iopub.status.busy": "2022-05-31T12:11:20.616720Z",
     "iopub.status.idle": "2022-05-31T12:11:25.547623Z",
     "shell.execute_reply": "2022-05-31T12:11:25.546401Z"
    },
    "jupyter": {
     "outputs_hidden": false
    },
    "papermill": {
     "duration": 4.962416,
     "end_time": "2022-05-31T12:11:25.550466",
     "exception": false,
     "start_time": "2022-05-31T12:11:20.588050",
     "status": "completed"
    },
    "tags": []
   },
   "outputs": [
    {
     "name": "stdout",
     "output_type": "stream",
     "text": [
      "Accuracy of ET: 0.9954112248499823\n",
      "Precision of ET: 0.9954232739578959\n",
      "Recall of ET: 0.9954112248499823\n",
      "F1-score of ET: 0.995398443528064\n",
      "              precision    recall  f1-score   support\n",
      "\n",
      "           0       1.00      0.99      0.99      4546\n",
      "           1       0.97      0.98      0.98       393\n",
      "           2       1.00      1.00      1.00       554\n",
      "           3       1.00      1.00      1.00      3807\n",
      "           4       1.00      0.71      0.83         7\n",
      "           5       1.00      1.00      1.00      1589\n",
      "           6       1.00      0.99      0.99       436\n",
      "\n",
      "    accuracy                           1.00     11332\n",
      "   macro avg       0.99      0.95      0.97     11332\n",
      "weighted avg       1.00      1.00      1.00     11332\n",
      "\n"
     ]
    },
    {
     "data": {
      "image/png": "[encoded data removed]",
      "text/plain": [
       "<Figure size 360x360 with 2 Axes>"
      ]
     },
     "metadata": {
      "needs_background": "light"
     },
     "output_type": "display_data"
    },
    {
     "name": "stdout",
     "output_type": "stream",
     "text": [
      "Time span of ET: 4.917617082595825\n"
     ]
    }
   ],
   "source": [
    "# Extra trees training and prediction\n",
    "start = time.time()\n",
    "\n",
    "et = ExtraTreesClassifier(random_state = 0)\n",
    "et.fit(X_train,y_train) \n",
    "et_score=et.score(X_test,y_test)\n",
    "y_predict=et.predict(X_test)\n",
    "y_true=y_test\n",
    "print('Accuracy of ET: '+ str(et_score))\n",
    "precision,recall,fscore,none= precision_recall_fscore_support(y_true, y_predict, average='weighted') \n",
    "print('Precision of ET: '+(str(precision)))\n",
    "print('Recall of ET: '+(str(recall)))\n",
    "print('F1-score of ET: '+(str(fscore)))\n",
    "print(classification_report(y_true,y_predict))\n",
    "cm=confusion_matrix(y_true,y_predict)\n",
    "f,ax=plt.subplots(figsize=(5,5))\n",
    "sns.heatmap(cm,annot=True,linewidth=0.5,linecolor=\"red\",fmt=\".0f\",ax=ax)\n",
    "plt.xlabel(\"y_pred\")\n",
    "plt.ylabel(\"y_true\")\n",
    "plt.show()\n",
    "\n",
    "end = time.time()\n",
    "et_span = end - start\n",
    "print('Time span of ET: ' + str(et_span))"
   ]
  },
  {
   "cell_type": "code",
   "execution_count": 48,
   "id": "312d4099",
   "metadata": {
    "execution": {
     "iopub.execute_input": "2022-05-31T12:11:25.607661Z",
     "iopub.status.busy": "2022-05-31T12:11:25.607129Z",
     "iopub.status.idle": "2022-05-31T12:11:26.733773Z",
     "shell.execute_reply": "2022-05-31T12:11:26.732750Z"
    },
    "papermill": {
     "duration": 1.158662,
     "end_time": "2022-05-31T12:11:26.736428",
     "exception": false,
     "start_time": "2022-05-31T12:11:25.577766",
     "status": "completed"
    },
    "tags": []
   },
   "outputs": [],
   "source": [
    "et_train=et.predict(X_train)\n",
    "et_test=et.predict(X_test)"
   ]
  },
  {
   "cell_type": "code",
   "execution_count": 49,
   "id": "1699cd8e",
   "metadata": {
    "collapsed": false,
    "execution": {
     "iopub.execute_input": "2022-05-31T12:11:26.791561Z",
     "iopub.status.busy": "2022-05-31T12:11:26.790880Z",
     "iopub.status.idle": "2022-05-31T12:11:31.384516Z",
     "shell.execute_reply": "2022-05-31T12:11:31.383358Z"
    },
    "jupyter": {
     "outputs_hidden": false
    },
    "papermill": {
     "duration": 4.624709,
     "end_time": "2022-05-31T12:11:31.387347",
     "exception": false,
     "start_time": "2022-05-31T12:11:26.762638",
     "status": "completed"
    },
    "tags": []
   },
   "outputs": [
    {
     "name": "stdout",
     "output_type": "stream",
     "text": [
      "Accuracy of XGBoost: 0.9949699964701729\n",
      "Precision of XGBoost: 0.9949617124693669\n",
      "Recall of XGBoost: 0.9949699964701729\n",
      "F1-score of XGBoost: 0.9949549887834711\n",
      "              precision    recall  f1-score   support\n",
      "\n",
      "           0       0.99      0.99      0.99      4546\n",
      "           1       0.99      0.98      0.99       393\n",
      "           2       1.00      1.00      1.00       554\n",
      "           3       0.99      1.00      1.00      3807\n",
      "           4       0.83      0.71      0.77         7\n",
      "           5       1.00      1.00      1.00      1589\n",
      "           6       1.00      0.98      0.99       436\n",
      "\n",
      "    accuracy                           0.99     11332\n",
      "   macro avg       0.97      0.95      0.96     11332\n",
      "weighted avg       0.99      0.99      0.99     11332\n",
      "\n"
     ]
    },
    {
     "data": {
      "image/png": "[encoded data removed]",
      "text/plain": [
       "<Figure size 360x360 with 2 Axes>"
      ]
     },
     "metadata": {
      "needs_background": "light"
     },
     "output_type": "display_data"
    },
    {
     "name": "stdout",
     "output_type": "stream",
     "text": [
      "Time span of XGBoost: 4.582025527954102\n"
     ]
    }
   ],
   "source": [
    "# XGboost training and prediction\n",
    "start = time.time()\n",
    "\n",
    "xg = xgb.XGBClassifier(n_estimators = 10)\n",
    "xg.fit(X_train,y_train)\n",
    "xg_score=xg.score(X_test,y_test)\n",
    "y_predict=xg.predict(X_test)\n",
    "y_true=y_test\n",
    "print('Accuracy of XGBoost: '+ str(xg_score))\n",
    "precision,recall,fscore,none= precision_recall_fscore_support(y_true, y_predict, average='weighted') \n",
    "print('Precision of XGBoost: '+(str(precision)))\n",
    "print('Recall of XGBoost: '+(str(recall)))\n",
    "print('F1-score of XGBoost: '+(str(fscore)))\n",
    "print(classification_report(y_true,y_predict))\n",
    "cm=confusion_matrix(y_true,y_predict)\n",
    "f,ax=plt.subplots(figsize=(5,5))\n",
    "sns.heatmap(cm,annot=True,linewidth=0.5,linecolor=\"red\",fmt=\".0f\",ax=ax)\n",
    "plt.xlabel(\"y_pred\")\n",
    "plt.ylabel(\"y_true\")\n",
    "plt.show()\n",
    "\n",
    "end = time.time()\n",
    "xg_span = end - start\n",
    "print('Time span of XGBoost: ' + str(xg_span))"
   ]
  },
  {
   "cell_type": "code",
   "execution_count": 50,
   "id": "4b9e4fa4",
   "metadata": {
    "execution": {
     "iopub.execute_input": "2022-05-31T12:11:31.442874Z",
     "iopub.status.busy": "2022-05-31T12:11:31.442329Z",
     "iopub.status.idle": "2022-05-31T12:11:31.507982Z",
     "shell.execute_reply": "2022-05-31T12:11:31.506823Z"
    },
    "papermill": {
     "duration": 0.096979,
     "end_time": "2022-05-31T12:11:31.511089",
     "exception": false,
     "start_time": "2022-05-31T12:11:31.414110",
     "status": "completed"
    },
    "tags": []
   },
   "outputs": [],
   "source": [
    "xg_train=xg.predict(X_train)\n",
    "xg_test=xg.predict(X_test)"
   ]
  },
  {
   "cell_type": "markdown",
   "id": "4267b175",
   "metadata": {
    "papermill": {
     "duration": 0.026671,
     "end_time": "2022-05-31T12:11:31.566991",
     "exception": false,
     "start_time": "2022-05-31T12:11:31.540320",
     "status": "completed"
    },
    "tags": []
   },
   "source": [
    "### Stacking model construction"
   ]
  },
  {
   "cell_type": "code",
   "execution_count": 51,
   "id": "0eecfadb",
   "metadata": {
    "collapsed": false,
    "execution": {
     "iopub.execute_input": "2022-05-31T12:11:31.623434Z",
     "iopub.status.busy": "2022-05-31T12:11:31.622957Z",
     "iopub.status.idle": "2022-05-31T12:11:31.637573Z",
     "shell.execute_reply": "2022-05-31T12:11:31.636643Z"
    },
    "jupyter": {
     "outputs_hidden": false
    },
    "papermill": {
     "duration": 0.045757,
     "end_time": "2022-05-31T12:11:31.639894",
     "exception": false,
     "start_time": "2022-05-31T12:11:31.594137",
     "status": "completed"
    },
    "tags": []
   },
   "outputs": [
    {
     "data": {
      "text/html": [
       "<div>\n",
       "<style scoped>\n",
       "    .dataframe tbody tr th:only-of-type {\n",
       "        vertical-align: middle;\n",
       "    }\n",
       "\n",
       "    .dataframe tbody tr th {\n",
       "        vertical-align: top;\n",
       "    }\n",
       "\n",
       "    .dataframe thead th {\n",
       "        text-align: right;\n",
       "    }\n",
       "</style>\n",
       "<table border=\"1\" class=\"dataframe\">\n",
       "  <thead>\n",
       "    <tr style=\"text-align: right;\">\n",
       "      <th></th>\n",
       "      <th>DecisionTree</th>\n",
       "      <th>RandomForest</th>\n",
       "      <th>ExtraTrees</th>\n",
       "      <th>XgBoost</th>\n",
       "    </tr>\n",
       "  </thead>\n",
       "  <tbody>\n",
       "    <tr>\n",
       "      <th>0</th>\n",
       "      <td>5</td>\n",
       "      <td>5</td>\n",
       "      <td>5</td>\n",
       "      <td>5</td>\n",
       "    </tr>\n",
       "    <tr>\n",
       "      <th>1</th>\n",
       "      <td>3</td>\n",
       "      <td>3</td>\n",
       "      <td>3</td>\n",
       "      <td>3</td>\n",
       "    </tr>\n",
       "    <tr>\n",
       "      <th>2</th>\n",
       "      <td>5</td>\n",
       "      <td>5</td>\n",
       "      <td>5</td>\n",
       "      <td>5</td>\n",
       "    </tr>\n",
       "    <tr>\n",
       "      <th>3</th>\n",
       "      <td>3</td>\n",
       "      <td>3</td>\n",
       "      <td>3</td>\n",
       "      <td>3</td>\n",
       "    </tr>\n",
       "    <tr>\n",
       "      <th>4</th>\n",
       "      <td>2</td>\n",
       "      <td>2</td>\n",
       "      <td>2</td>\n",
       "      <td>2</td>\n",
       "    </tr>\n",
       "  </tbody>\n",
       "</table>\n",
       "</div>"
      ],
      "text/plain": [
       "   DecisionTree  RandomForest  ExtraTrees  XgBoost\n",
       "0             5             5           5        5\n",
       "1             3             3           3        3\n",
       "2             5             5           5        5\n",
       "3             3             3           3        3\n",
       "4             2             2           2        2"
      ]
     },
     "execution_count": 51,
     "metadata": {},
     "output_type": "execute_result"
    }
   ],
   "source": [
    "base_predictions_train = pd.DataFrame( {\n",
    "    'DecisionTree': dt_train.ravel(),\n",
    "        'RandomForest': rf_train.ravel(),\n",
    "     'ExtraTrees': et_train.ravel(),\n",
    "     'XgBoost': xg_train.ravel(),\n",
    "    })\n",
    "base_predictions_train.head(5)"
   ]
  },
  {
   "cell_type": "code",
   "execution_count": 52,
   "id": "5d24d285",
   "metadata": {
    "execution": {
     "iopub.execute_input": "2022-05-31T12:11:31.695825Z",
     "iopub.status.busy": "2022-05-31T12:11:31.694967Z",
     "iopub.status.idle": "2022-05-31T12:11:31.701775Z",
     "shell.execute_reply": "2022-05-31T12:11:31.700876Z"
    },
    "papermill": {
     "duration": 0.037519,
     "end_time": "2022-05-31T12:11:31.704215",
     "exception": false,
     "start_time": "2022-05-31T12:11:31.666696",
     "status": "completed"
    },
    "tags": []
   },
   "outputs": [],
   "source": [
    "dt_train=dt_train.reshape(-1, 1)\n",
    "et_train=et_train.reshape(-1, 1)\n",
    "rf_train=rf_train.reshape(-1, 1)\n",
    "xg_train=xg_train.reshape(-1, 1)\n",
    "dt_test=dt_test.reshape(-1, 1)\n",
    "et_test=et_test.reshape(-1, 1)\n",
    "rf_test=rf_test.reshape(-1, 1)\n",
    "xg_test=xg_test.reshape(-1, 1)"
   ]
  },
  {
   "cell_type": "code",
   "execution_count": 53,
   "id": "f12428a2",
   "metadata": {
    "execution": {
     "iopub.execute_input": "2022-05-31T12:11:31.761052Z",
     "iopub.status.busy": "2022-05-31T12:11:31.760170Z",
     "iopub.status.idle": "2022-05-31T12:11:31.767401Z",
     "shell.execute_reply": "2022-05-31T12:11:31.766067Z"
    },
    "papermill": {
     "duration": 0.039407,
     "end_time": "2022-05-31T12:11:31.770681",
     "exception": false,
     "start_time": "2022-05-31T12:11:31.731274",
     "status": "completed"
    },
    "tags": []
   },
   "outputs": [],
   "source": [
    "x_train = np.concatenate(( dt_train, et_train, rf_train, xg_train), axis=1)\n",
    "x_test = np.concatenate(( dt_test, et_test, rf_test, xg_test), axis=1)"
   ]
  },
  {
   "cell_type": "code",
   "execution_count": 54,
   "id": "263cbf63",
   "metadata": {
    "collapsed": false,
    "execution": {
     "iopub.execute_input": "2022-05-31T12:11:31.829496Z",
     "iopub.status.busy": "2022-05-31T12:11:31.828979Z",
     "iopub.status.idle": "2022-05-31T12:11:34.621836Z",
     "shell.execute_reply": "2022-05-31T12:11:34.620728Z"
    },
    "jupyter": {
     "outputs_hidden": false
    },
    "papermill": {
     "duration": 2.825777,
     "end_time": "2022-05-31T12:11:34.625008",
     "exception": false,
     "start_time": "2022-05-31T12:11:31.799231",
     "status": "completed"
    },
    "tags": []
   },
   "outputs": [
    {
     "name": "stdout",
     "output_type": "stream",
     "text": [
      "Accuracy of Stacking: 0.9953229791740205\n",
      "Precision of Stacking: 0.9953290903861165\n",
      "Recall of Stacking: 0.9953229791740205\n",
      "F1-score of Stacking: 0.9952999611410367\n",
      "              precision    recall  f1-score   support\n",
      "\n",
      "           0       1.00      0.99      0.99      4546\n",
      "           1       1.00      0.97      0.98       393\n",
      "           2       0.99      1.00      1.00       554\n",
      "           3       0.99      1.00      1.00      3807\n",
      "           4       1.00      0.71      0.83         7\n",
      "           5       1.00      1.00      1.00      1589\n",
      "           6       1.00      0.98      0.99       436\n",
      "\n",
      "    accuracy                           1.00     11332\n",
      "   macro avg       1.00      0.95      0.97     11332\n",
      "weighted avg       1.00      1.00      1.00     11332\n",
      "\n"
     ]
    },
    {
     "data": {
      "image/png": "[encoded data removed]",
      "text/plain": [
       "<Figure size 360x360 with 2 Axes>"
      ]
     },
     "metadata": {
      "needs_background": "light"
     },
     "output_type": "display_data"
    },
    {
     "name": "stdout",
     "output_type": "stream",
     "text": [
      "Time span of XGBoost: 2.781317949295044\n"
     ]
    }
   ],
   "source": [
    "start = time.time()\n",
    "\n",
    "stk = xgb.XGBClassifier().fit(x_train, y_train)\n",
    "y_predict=stk.predict(x_test)\n",
    "y_true=y_test\n",
    "stk_score=accuracy_score(y_true,y_predict)\n",
    "print('Accuracy of Stacking: '+ str(stk_score))\n",
    "precision,recall,fscore,none= precision_recall_fscore_support(y_true, y_predict, average='weighted') \n",
    "print('Precision of Stacking: '+(str(precision)))\n",
    "print('Recall of Stacking: '+(str(recall)))\n",
    "print('F1-score of Stacking: '+(str(fscore)))\n",
    "print(classification_report(y_true,y_predict))\n",
    "cm=confusion_matrix(y_true,y_predict)\n",
    "f,ax=plt.subplots(figsize=(5,5))\n",
    "sns.heatmap(cm,annot=True,linewidth=0.5,linecolor=\"red\",fmt=\".0f\",ax=ax)\n",
    "plt.xlabel(\"y_pred\")\n",
    "plt.ylabel(\"y_true\")\n",
    "plt.show()\n",
    "\n",
    "end = time.time()\n",
    "stk_span = end - start\n",
    "print('Time span of XGBoost: ' + str(stk_span))"
   ]
  },
  {
   "cell_type": "code",
   "execution_count": null,
   "id": "44cae60b",
   "metadata": {
    "collapsed": true,
    "jupyter": {
     "outputs_hidden": true
    },
    "papermill": {
     "duration": 0.027258,
     "end_time": "2022-05-31T12:11:34.681827",
     "exception": false,
     "start_time": "2022-05-31T12:11:34.654569",
     "status": "completed"
    },
    "tags": []
   },
   "outputs": [],
   "source": []
  }
 ],
 "metadata": {
  "kernelspec": {
   "display_name": "Python 3 (ipykernel)",
   "language": "python",
   "name": "python3"
  },
  "language_info": {
   "codemirror_mode": {
    "name": "ipython",
    "version": 3
   },
   "file_extension": ".py",
   "mimetype": "text/x-python",
   "name": "python",
   "nbconvert_exporter": "python",
   "pygments_lexer": "ipython3",
   "version": "3.11.4"
  },
  "papermill": {
   "default_parameters": {},
   "duration": 224.92252,
   "end_time": "2022-05-31T12:11:35.940550",
   "environment_variables": {},
   "exception": null,
   "input_path": "__notebook__.ipynb",
   "output_path": "__notebook__.ipynb",
   "parameters": {},
   "start_time": "2022-05-31T12:07:51.018030",
   "version": "2.3.4"
  }
 },
 "nbformat": 4,
 "nbformat_minor": 5
}
