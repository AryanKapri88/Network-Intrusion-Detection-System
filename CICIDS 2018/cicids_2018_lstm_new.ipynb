{
 "cells": [
  {
   "cell_type": "code",
   "execution_count": 1,
   "id": "60347447",
   "metadata": {
    "_cell_guid": "b1076dfc-b9ad-4769-8c92-a6c4dae69d19",
    "_uuid": "8f2839f25d086af736a60e9eeb907d3b93b6e0e5",
    "execution": {
     "iopub.execute_input": "2023-06-01T14:47:47.379048Z",
     "iopub.status.busy": "2023-06-01T14:47:47.378667Z",
     "iopub.status.idle": "2023-06-01T14:47:47.405779Z",
     "shell.execute_reply": "2023-06-01T14:47:47.403972Z"
    },
    "papermill": {
     "duration": 0.042573,
     "end_time": "2023-06-01T14:47:47.408654",
     "exception": false,
     "start_time": "2023-06-01T14:47:47.366081",
     "status": "completed"
    },
    "tags": []
   },
   "outputs": [
    {
     "name": "stdout",
     "output_type": "stream",
     "text": [
      "/kaggle/input/cicids2018/Friday-16-02-2018_TrafficForML_CICFlowMeter.csv\n",
      "/kaggle/input/cicids2018/Thursday-15-02-2018_TrafficForML_CICFlowMeter.csv\n",
      "/kaggle/input/cicids2018/Wednesday-14-02-2018_TrafficForML_CICFlowMeter.csv\n",
      "/kaggle/input/cicids2018/Friday-02-03-2018_TrafficForML_CICFlowMeter.csv\n",
      "/kaggle/input/cicids2018/Thursday-22-02-2018_TrafficForML_CICFlowMeter.csv\n",
      "/kaggle/input/cicids2018/Wednesday-21-02-2018_TrafficForML_CICFlowMeter.csv\n",
      "/kaggle/input/cicids2018/Thuesday-20-02-2018_TrafficForML_CICFlowMeter.csv\n",
      "/kaggle/input/cicids2018/Friday-23-02-2018_TrafficForML_CICFlowMeter.csv\n",
      "/kaggle/input/cicids2018/Thursday-01-03-2018_TrafficForML_CICFlowMeter.csv\n",
      "/kaggle/input/cicids2018/Wednesday-28-02-2018_TrafficForML_CICFlowMeter.csv\n"
     ]
    }
   ],
   "source": [
    "# This Python 3 environment comes with many helpful analytics libraries installed\n",
    "# It is defined by the kaggle/python Docker image: https://github.com/kaggle/docker-python\n",
    "# For example, here's several helpful packages to load\n",
    "\n",
    "import numpy as np # linear algebra\n",
    "import pandas as pd # data processing, CSV file I/O (e.g. pd.read_csv)\n",
    "\n",
    "# Input data files are available in the read-only \"../input/\" directory\n",
    "# For example, running this (by clicking run or pressing Shift+Enter) will list all files under the input directory\n",
    "\n",
    "import os\n",
    "for dirname, _, filenames in os.walk('/kaggle/input'):\n",
    "    for filename in filenames:\n",
    "        print(os.path.join(dirname, filename))\n",
    "\n",
    "# You can write up to 20GB to the current directory (/kaggle/working/) that gets preserved as output when you create a version using \"Save & Run All\" \n",
    "# You can also write temporary files to /kaggle/temp/, but they won't be saved outside of the current session"
   ]
  },
  {
   "cell_type": "code",
   "execution_count": 2,
   "id": "e3d807f2",
   "metadata": {
    "execution": {
     "iopub.execute_input": "2023-06-01T14:47:47.431656Z",
     "iopub.status.busy": "2023-06-01T14:47:47.431200Z",
     "iopub.status.idle": "2023-06-01T14:48:02.654836Z",
     "shell.execute_reply": "2023-06-01T14:48:02.653699Z"
    },
    "papermill": {
     "duration": 15.23797,
     "end_time": "2023-06-01T14:48:02.657323",
     "exception": false,
     "start_time": "2023-06-01T14:47:47.419353",
     "status": "completed"
    },
    "tags": []
   },
   "outputs": [
    {
     "data": {
      "text/plain": [
       "(1048575, 80)"
      ]
     },
     "execution_count": 2,
     "metadata": {},
     "output_type": "execute_result"
    }
   ],
   "source": [
    "df=pd.read_csv('/kaggle/input/cicids2018/Wednesday-14-02-2018_TrafficForML_CICFlowMeter.csv')\n",
    "df.shape\n"
   ]
  },
  {
   "cell_type": "code",
   "execution_count": 3,
   "id": "3302124a",
   "metadata": {
    "execution": {
     "iopub.execute_input": "2023-06-01T14:48:02.680611Z",
     "iopub.status.busy": "2023-06-01T14:48:02.679951Z",
     "iopub.status.idle": "2023-06-01T14:48:02.814670Z",
     "shell.execute_reply": "2023-06-01T14:48:02.813509Z"
    },
    "papermill": {
     "duration": 0.149543,
     "end_time": "2023-06-01T14:48:02.817309",
     "exception": false,
     "start_time": "2023-06-01T14:48:02.667766",
     "status": "completed"
    },
    "tags": []
   },
   "outputs": [
    {
     "data": {
      "text/plain": [
       "0"
      ]
     },
     "execution_count": 3,
     "metadata": {},
     "output_type": "execute_result"
    }
   ],
   "source": [
    "import gc\n",
    "gc.collect()"
   ]
  },
  {
   "cell_type": "code",
   "execution_count": 4,
   "id": "9b916f62",
   "metadata": {
    "execution": {
     "iopub.execute_input": "2023-06-01T14:48:02.843773Z",
     "iopub.status.busy": "2023-06-01T14:48:02.843321Z",
     "iopub.status.idle": "2023-06-01T14:48:02.849694Z",
     "shell.execute_reply": "2023-06-01T14:48:02.848589Z"
    },
    "papermill": {
     "duration": 0.021896,
     "end_time": "2023-06-01T14:48:02.852357",
     "exception": false,
     "start_time": "2023-06-01T14:48:02.830461",
     "status": "completed"
    },
    "tags": []
   },
   "outputs": [
    {
     "name": "stdout",
     "output_type": "stream",
     "text": [
      "Instances: 1048575\n",
      "Features: 80\n"
     ]
    }
   ],
   "source": [
    "print(f'Instances: {df.shape[0]}')\n",
    "print(f'Features: {df.shape[1]}')"
   ]
  },
  {
   "cell_type": "code",
   "execution_count": 5,
   "id": "3220d0c6",
   "metadata": {
    "execution": {
     "iopub.execute_input": "2023-06-01T14:48:02.877107Z",
     "iopub.status.busy": "2023-06-01T14:48:02.876291Z",
     "iopub.status.idle": "2023-06-01T14:48:02.923629Z",
     "shell.execute_reply": "2023-06-01T14:48:02.922356Z"
    },
    "papermill": {
     "duration": 0.063489,
     "end_time": "2023-06-01T14:48:02.926655",
     "exception": false,
     "start_time": "2023-06-01T14:48:02.863166",
     "status": "completed"
    },
    "tags": []
   },
   "outputs": [
    {
     "data": {
      "text/html": [
       "<div>\n",
       "<style scoped>\n",
       "    .dataframe tbody tr th:only-of-type {\n",
       "        vertical-align: middle;\n",
       "    }\n",
       "\n",
       "    .dataframe tbody tr th {\n",
       "        vertical-align: top;\n",
       "    }\n",
       "\n",
       "    .dataframe thead th {\n",
       "        text-align: right;\n",
       "    }\n",
       "</style>\n",
       "<table border=\"1\" class=\"dataframe\">\n",
       "  <thead>\n",
       "    <tr style=\"text-align: right;\">\n",
       "      <th></th>\n",
       "      <th>Dst Port</th>\n",
       "      <th>Protocol</th>\n",
       "      <th>Timestamp</th>\n",
       "      <th>Flow Duration</th>\n",
       "      <th>Tot Fwd Pkts</th>\n",
       "      <th>Tot Bwd Pkts</th>\n",
       "      <th>TotLen Fwd Pkts</th>\n",
       "      <th>TotLen Bwd Pkts</th>\n",
       "      <th>Fwd Pkt Len Max</th>\n",
       "      <th>Fwd Pkt Len Min</th>\n",
       "      <th>...</th>\n",
       "      <th>Fwd Seg Size Min</th>\n",
       "      <th>Active Mean</th>\n",
       "      <th>Active Std</th>\n",
       "      <th>Active Max</th>\n",
       "      <th>Active Min</th>\n",
       "      <th>Idle Mean</th>\n",
       "      <th>Idle Std</th>\n",
       "      <th>Idle Max</th>\n",
       "      <th>Idle Min</th>\n",
       "      <th>Label</th>\n",
       "    </tr>\n",
       "  </thead>\n",
       "  <tbody>\n",
       "    <tr>\n",
       "      <th>0</th>\n",
       "      <td>0</td>\n",
       "      <td>0</td>\n",
       "      <td>14/02/2018 08:31:01</td>\n",
       "      <td>112641719</td>\n",
       "      <td>3</td>\n",
       "      <td>0</td>\n",
       "      <td>0</td>\n",
       "      <td>0</td>\n",
       "      <td>0</td>\n",
       "      <td>0</td>\n",
       "      <td>...</td>\n",
       "      <td>0</td>\n",
       "      <td>0.0</td>\n",
       "      <td>0.0</td>\n",
       "      <td>0</td>\n",
       "      <td>0</td>\n",
       "      <td>56320859.5</td>\n",
       "      <td>139.300036</td>\n",
       "      <td>56320958</td>\n",
       "      <td>56320761</td>\n",
       "      <td>Benign</td>\n",
       "    </tr>\n",
       "    <tr>\n",
       "      <th>1</th>\n",
       "      <td>0</td>\n",
       "      <td>0</td>\n",
       "      <td>14/02/2018 08:33:50</td>\n",
       "      <td>112641466</td>\n",
       "      <td>3</td>\n",
       "      <td>0</td>\n",
       "      <td>0</td>\n",
       "      <td>0</td>\n",
       "      <td>0</td>\n",
       "      <td>0</td>\n",
       "      <td>...</td>\n",
       "      <td>0</td>\n",
       "      <td>0.0</td>\n",
       "      <td>0.0</td>\n",
       "      <td>0</td>\n",
       "      <td>0</td>\n",
       "      <td>56320733.0</td>\n",
       "      <td>114.551299</td>\n",
       "      <td>56320814</td>\n",
       "      <td>56320652</td>\n",
       "      <td>Benign</td>\n",
       "    </tr>\n",
       "    <tr>\n",
       "      <th>2</th>\n",
       "      <td>0</td>\n",
       "      <td>0</td>\n",
       "      <td>14/02/2018 08:36:39</td>\n",
       "      <td>112638623</td>\n",
       "      <td>3</td>\n",
       "      <td>0</td>\n",
       "      <td>0</td>\n",
       "      <td>0</td>\n",
       "      <td>0</td>\n",
       "      <td>0</td>\n",
       "      <td>...</td>\n",
       "      <td>0</td>\n",
       "      <td>0.0</td>\n",
       "      <td>0.0</td>\n",
       "      <td>0</td>\n",
       "      <td>0</td>\n",
       "      <td>56319311.5</td>\n",
       "      <td>301.934596</td>\n",
       "      <td>56319525</td>\n",
       "      <td>56319098</td>\n",
       "      <td>Benign</td>\n",
       "    </tr>\n",
       "    <tr>\n",
       "      <th>3</th>\n",
       "      <td>22</td>\n",
       "      <td>6</td>\n",
       "      <td>14/02/2018 08:40:13</td>\n",
       "      <td>6453966</td>\n",
       "      <td>15</td>\n",
       "      <td>10</td>\n",
       "      <td>1239</td>\n",
       "      <td>2273</td>\n",
       "      <td>744</td>\n",
       "      <td>0</td>\n",
       "      <td>...</td>\n",
       "      <td>32</td>\n",
       "      <td>0.0</td>\n",
       "      <td>0.0</td>\n",
       "      <td>0</td>\n",
       "      <td>0</td>\n",
       "      <td>0.0</td>\n",
       "      <td>0.000000</td>\n",
       "      <td>0</td>\n",
       "      <td>0</td>\n",
       "      <td>Benign</td>\n",
       "    </tr>\n",
       "    <tr>\n",
       "      <th>4</th>\n",
       "      <td>22</td>\n",
       "      <td>6</td>\n",
       "      <td>14/02/2018 08:40:23</td>\n",
       "      <td>8804066</td>\n",
       "      <td>14</td>\n",
       "      <td>11</td>\n",
       "      <td>1143</td>\n",
       "      <td>2209</td>\n",
       "      <td>744</td>\n",
       "      <td>0</td>\n",
       "      <td>...</td>\n",
       "      <td>32</td>\n",
       "      <td>0.0</td>\n",
       "      <td>0.0</td>\n",
       "      <td>0</td>\n",
       "      <td>0</td>\n",
       "      <td>0.0</td>\n",
       "      <td>0.000000</td>\n",
       "      <td>0</td>\n",
       "      <td>0</td>\n",
       "      <td>Benign</td>\n",
       "    </tr>\n",
       "  </tbody>\n",
       "</table>\n",
       "<p>5 rows × 80 columns</p>\n",
       "</div>"
      ],
      "text/plain": [
       "   Dst Port  Protocol            Timestamp  Flow Duration  Tot Fwd Pkts  \\\n",
       "0         0         0  14/02/2018 08:31:01      112641719             3   \n",
       "1         0         0  14/02/2018 08:33:50      112641466             3   \n",
       "2         0         0  14/02/2018 08:36:39      112638623             3   \n",
       "3        22         6  14/02/2018 08:40:13        6453966            15   \n",
       "4        22         6  14/02/2018 08:40:23        8804066            14   \n",
       "\n",
       "   Tot Bwd Pkts  TotLen Fwd Pkts  TotLen Bwd Pkts  Fwd Pkt Len Max  \\\n",
       "0             0                0                0                0   \n",
       "1             0                0                0                0   \n",
       "2             0                0                0                0   \n",
       "3            10             1239             2273              744   \n",
       "4            11             1143             2209              744   \n",
       "\n",
       "   Fwd Pkt Len Min  ...  Fwd Seg Size Min  Active Mean  Active Std  \\\n",
       "0                0  ...                 0          0.0         0.0   \n",
       "1                0  ...                 0          0.0         0.0   \n",
       "2                0  ...                 0          0.0         0.0   \n",
       "3                0  ...                32          0.0         0.0   \n",
       "4                0  ...                32          0.0         0.0   \n",
       "\n",
       "   Active Max  Active Min   Idle Mean    Idle Std  Idle Max  Idle Min   Label  \n",
       "0           0           0  56320859.5  139.300036  56320958  56320761  Benign  \n",
       "1           0           0  56320733.0  114.551299  56320814  56320652  Benign  \n",
       "2           0           0  56319311.5  301.934596  56319525  56319098  Benign  \n",
       "3           0           0         0.0    0.000000         0         0  Benign  \n",
       "4           0           0         0.0    0.000000         0         0  Benign  \n",
       "\n",
       "[5 rows x 80 columns]"
      ]
     },
     "execution_count": 5,
     "metadata": {},
     "output_type": "execute_result"
    }
   ],
   "source": [
    "df.head()"
   ]
  },
  {
   "cell_type": "code",
   "execution_count": 6,
   "id": "2dcadeae",
   "metadata": {
    "execution": {
     "iopub.execute_input": "2023-06-01T14:48:02.951211Z",
     "iopub.status.busy": "2023-06-01T14:48:02.950799Z",
     "iopub.status.idle": "2023-06-01T14:48:02.977148Z",
     "shell.execute_reply": "2023-06-01T14:48:02.975969Z"
    },
    "papermill": {
     "duration": 0.041698,
     "end_time": "2023-06-01T14:48:02.980032",
     "exception": false,
     "start_time": "2023-06-01T14:48:02.938334",
     "status": "completed"
    },
    "tags": []
   },
   "outputs": [
    {
     "data": {
      "text/html": [
       "<div>\n",
       "<style scoped>\n",
       "    .dataframe tbody tr th:only-of-type {\n",
       "        vertical-align: middle;\n",
       "    }\n",
       "\n",
       "    .dataframe tbody tr th {\n",
       "        vertical-align: top;\n",
       "    }\n",
       "\n",
       "    .dataframe thead th {\n",
       "        text-align: right;\n",
       "    }\n",
       "</style>\n",
       "<table border=\"1\" class=\"dataframe\">\n",
       "  <thead>\n",
       "    <tr style=\"text-align: right;\">\n",
       "      <th></th>\n",
       "      <th>Dst Port</th>\n",
       "      <th>Protocol</th>\n",
       "      <th>Timestamp</th>\n",
       "      <th>Flow Duration</th>\n",
       "      <th>Tot Fwd Pkts</th>\n",
       "      <th>Tot Bwd Pkts</th>\n",
       "      <th>TotLen Fwd Pkts</th>\n",
       "      <th>TotLen Bwd Pkts</th>\n",
       "      <th>Fwd Pkt Len Max</th>\n",
       "      <th>Fwd Pkt Len Min</th>\n",
       "      <th>...</th>\n",
       "      <th>Fwd Seg Size Min</th>\n",
       "      <th>Active Mean</th>\n",
       "      <th>Active Std</th>\n",
       "      <th>Active Max</th>\n",
       "      <th>Active Min</th>\n",
       "      <th>Idle Mean</th>\n",
       "      <th>Idle Std</th>\n",
       "      <th>Idle Max</th>\n",
       "      <th>Idle Min</th>\n",
       "      <th>Label</th>\n",
       "    </tr>\n",
       "  </thead>\n",
       "  <tbody>\n",
       "    <tr>\n",
       "      <th>1048570</th>\n",
       "      <td>80</td>\n",
       "      <td>6</td>\n",
       "      <td>14/02/2018 10:53:23</td>\n",
       "      <td>10156986</td>\n",
       "      <td>5</td>\n",
       "      <td>5</td>\n",
       "      <td>1089</td>\n",
       "      <td>1923</td>\n",
       "      <td>587</td>\n",
       "      <td>0</td>\n",
       "      <td>...</td>\n",
       "      <td>20</td>\n",
       "      <td>0.0</td>\n",
       "      <td>0.0</td>\n",
       "      <td>0</td>\n",
       "      <td>0</td>\n",
       "      <td>0.0</td>\n",
       "      <td>0.0</td>\n",
       "      <td>0</td>\n",
       "      <td>0</td>\n",
       "      <td>Benign</td>\n",
       "    </tr>\n",
       "    <tr>\n",
       "      <th>1048571</th>\n",
       "      <td>80</td>\n",
       "      <td>6</td>\n",
       "      <td>14/02/2018 10:53:33</td>\n",
       "      <td>117</td>\n",
       "      <td>2</td>\n",
       "      <td>0</td>\n",
       "      <td>0</td>\n",
       "      <td>0</td>\n",
       "      <td>0</td>\n",
       "      <td>0</td>\n",
       "      <td>...</td>\n",
       "      <td>20</td>\n",
       "      <td>0.0</td>\n",
       "      <td>0.0</td>\n",
       "      <td>0</td>\n",
       "      <td>0</td>\n",
       "      <td>0.0</td>\n",
       "      <td>0.0</td>\n",
       "      <td>0</td>\n",
       "      <td>0</td>\n",
       "      <td>Benign</td>\n",
       "    </tr>\n",
       "    <tr>\n",
       "      <th>1048572</th>\n",
       "      <td>80</td>\n",
       "      <td>6</td>\n",
       "      <td>14/02/2018 10:53:28</td>\n",
       "      <td>5095331</td>\n",
       "      <td>3</td>\n",
       "      <td>1</td>\n",
       "      <td>0</td>\n",
       "      <td>0</td>\n",
       "      <td>0</td>\n",
       "      <td>0</td>\n",
       "      <td>...</td>\n",
       "      <td>20</td>\n",
       "      <td>0.0</td>\n",
       "      <td>0.0</td>\n",
       "      <td>0</td>\n",
       "      <td>0</td>\n",
       "      <td>0.0</td>\n",
       "      <td>0.0</td>\n",
       "      <td>0</td>\n",
       "      <td>0</td>\n",
       "      <td>Benign</td>\n",
       "    </tr>\n",
       "    <tr>\n",
       "      <th>1048573</th>\n",
       "      <td>80</td>\n",
       "      <td>6</td>\n",
       "      <td>14/02/2018 10:53:28</td>\n",
       "      <td>5235511</td>\n",
       "      <td>3</td>\n",
       "      <td>1</td>\n",
       "      <td>0</td>\n",
       "      <td>0</td>\n",
       "      <td>0</td>\n",
       "      <td>0</td>\n",
       "      <td>...</td>\n",
       "      <td>20</td>\n",
       "      <td>0.0</td>\n",
       "      <td>0.0</td>\n",
       "      <td>0</td>\n",
       "      <td>0</td>\n",
       "      <td>0.0</td>\n",
       "      <td>0.0</td>\n",
       "      <td>0</td>\n",
       "      <td>0</td>\n",
       "      <td>Benign</td>\n",
       "    </tr>\n",
       "    <tr>\n",
       "      <th>1048574</th>\n",
       "      <td>443</td>\n",
       "      <td>6</td>\n",
       "      <td>14/02/2018 10:53:28</td>\n",
       "      <td>5807256</td>\n",
       "      <td>6</td>\n",
       "      <td>4</td>\n",
       "      <td>327</td>\n",
       "      <td>145</td>\n",
       "      <td>245</td>\n",
       "      <td>0</td>\n",
       "      <td>...</td>\n",
       "      <td>20</td>\n",
       "      <td>291569.0</td>\n",
       "      <td>0.0</td>\n",
       "      <td>291569</td>\n",
       "      <td>291569</td>\n",
       "      <td>5515650.0</td>\n",
       "      <td>0.0</td>\n",
       "      <td>5515650</td>\n",
       "      <td>5515650</td>\n",
       "      <td>Benign</td>\n",
       "    </tr>\n",
       "  </tbody>\n",
       "</table>\n",
       "<p>5 rows × 80 columns</p>\n",
       "</div>"
      ],
      "text/plain": [
       "         Dst Port  Protocol            Timestamp  Flow Duration  Tot Fwd Pkts  \\\n",
       "1048570        80         6  14/02/2018 10:53:23       10156986             5   \n",
       "1048571        80         6  14/02/2018 10:53:33            117             2   \n",
       "1048572        80         6  14/02/2018 10:53:28        5095331             3   \n",
       "1048573        80         6  14/02/2018 10:53:28        5235511             3   \n",
       "1048574       443         6  14/02/2018 10:53:28        5807256             6   \n",
       "\n",
       "         Tot Bwd Pkts  TotLen Fwd Pkts  TotLen Bwd Pkts  Fwd Pkt Len Max  \\\n",
       "1048570             5             1089             1923              587   \n",
       "1048571             0                0                0                0   \n",
       "1048572             1                0                0                0   \n",
       "1048573             1                0                0                0   \n",
       "1048574             4              327              145              245   \n",
       "\n",
       "         Fwd Pkt Len Min  ...  Fwd Seg Size Min  Active Mean  Active Std  \\\n",
       "1048570                0  ...                20          0.0         0.0   \n",
       "1048571                0  ...                20          0.0         0.0   \n",
       "1048572                0  ...                20          0.0         0.0   \n",
       "1048573                0  ...                20          0.0         0.0   \n",
       "1048574                0  ...                20     291569.0         0.0   \n",
       "\n",
       "         Active Max  Active Min  Idle Mean  Idle Std  Idle Max  Idle Min  \\\n",
       "1048570           0           0        0.0       0.0         0         0   \n",
       "1048571           0           0        0.0       0.0         0         0   \n",
       "1048572           0           0        0.0       0.0         0         0   \n",
       "1048573           0           0        0.0       0.0         0         0   \n",
       "1048574      291569      291569  5515650.0       0.0   5515650   5515650   \n",
       "\n",
       "          Label  \n",
       "1048570  Benign  \n",
       "1048571  Benign  \n",
       "1048572  Benign  \n",
       "1048573  Benign  \n",
       "1048574  Benign  \n",
       "\n",
       "[5 rows x 80 columns]"
      ]
     },
     "execution_count": 6,
     "metadata": {},
     "output_type": "execute_result"
    }
   ],
   "source": [
    "df.tail()"
   ]
  },
  {
   "cell_type": "code",
   "execution_count": 7,
   "id": "c7b07df0",
   "metadata": {
    "execution": {
     "iopub.execute_input": "2023-06-01T14:48:03.005915Z",
     "iopub.status.busy": "2023-06-01T14:48:03.005498Z",
     "iopub.status.idle": "2023-06-01T14:48:03.760048Z",
     "shell.execute_reply": "2023-06-01T14:48:03.758740Z"
    },
    "papermill": {
     "duration": 0.770743,
     "end_time": "2023-06-01T14:48:03.763175",
     "exception": false,
     "start_time": "2023-06-01T14:48:02.992432",
     "status": "completed"
    },
    "tags": []
   },
   "outputs": [
    {
     "data": {
      "text/plain": [
       "Dst Port         0\n",
       "Protocol         0\n",
       "Timestamp        0\n",
       "Flow Duration    0\n",
       "Tot Fwd Pkts     0\n",
       "                ..\n",
       "Idle Mean        0\n",
       "Idle Std         0\n",
       "Idle Max         0\n",
       "Idle Min         0\n",
       "Label            0\n",
       "Length: 80, dtype: int64"
      ]
     },
     "execution_count": 7,
     "metadata": {},
     "output_type": "execute_result"
    }
   ],
   "source": [
    "df.isnull().sum()"
   ]
  },
  {
   "cell_type": "markdown",
   "id": "7e507994",
   "metadata": {
    "papermill": {
     "duration": 0.0114,
     "end_time": "2023-06-01T14:48:03.786542",
     "exception": false,
     "start_time": "2023-06-01T14:48:03.775142",
     "status": "completed"
    },
    "tags": []
   },
   "source": []
  },
  {
   "cell_type": "markdown",
   "id": "6f59b838",
   "metadata": {
    "papermill": {
     "duration": 0.011542,
     "end_time": "2023-06-01T14:48:03.809960",
     "exception": false,
     "start_time": "2023-06-01T14:48:03.798418",
     "status": "completed"
    },
    "tags": []
   },
   "source": [
    "# Droping the first three columns, \"Dst Port, Protocol, Timestamp\" as they do not add any features to the dataset"
   ]
  },
  {
   "cell_type": "code",
   "execution_count": 8,
   "id": "87ddbb9b",
   "metadata": {
    "execution": {
     "iopub.execute_input": "2023-06-01T14:48:03.835268Z",
     "iopub.status.busy": "2023-06-01T14:48:03.834823Z",
     "iopub.status.idle": "2023-06-01T14:48:04.060084Z",
     "shell.execute_reply": "2023-06-01T14:48:04.058716Z"
    },
    "papermill": {
     "duration": 0.241025,
     "end_time": "2023-06-01T14:48:04.062654",
     "exception": false,
     "start_time": "2023-06-01T14:48:03.821629",
     "status": "completed"
    },
    "tags": []
   },
   "outputs": [
    {
     "data": {
      "text/plain": [
       "(1048575, 77)"
      ]
     },
     "execution_count": 8,
     "metadata": {},
     "output_type": "execute_result"
    }
   ],
   "source": [
    "df1 = df.drop(df.columns[:3], axis=1)\n",
    "df1.shape"
   ]
  },
  {
   "cell_type": "code",
   "execution_count": 9,
   "id": "c3cb27c4",
   "metadata": {
    "execution": {
     "iopub.execute_input": "2023-06-01T14:48:04.089037Z",
     "iopub.status.busy": "2023-06-01T14:48:04.088284Z",
     "iopub.status.idle": "2023-06-01T14:48:04.194877Z",
     "shell.execute_reply": "2023-06-01T14:48:04.193682Z"
    },
    "papermill": {
     "duration": 0.122762,
     "end_time": "2023-06-01T14:48:04.197642",
     "exception": false,
     "start_time": "2023-06-01T14:48:04.074880",
     "status": "completed"
    },
    "tags": []
   },
   "outputs": [
    {
     "data": {
      "text/plain": [
       "array(['Benign', 'FTP-BruteForce', 'SSH-Bruteforce'], dtype=object)"
      ]
     },
     "execution_count": 9,
     "metadata": {},
     "output_type": "execute_result"
    }
   ],
   "source": [
    "df1['Label'].unique()"
   ]
  },
  {
   "cell_type": "markdown",
   "id": "71aede21",
   "metadata": {
    "papermill": {
     "duration": 0.011791,
     "end_time": "2023-06-01T14:48:04.221489",
     "exception": false,
     "start_time": "2023-06-01T14:48:04.209698",
     "status": "completed"
    },
    "tags": []
   },
   "source": [
    "# We are getting the word 'Label' as another category, which is a header and repeated at another row. It might affect the results, therefore, let's find this row."
   ]
  },
  {
   "cell_type": "code",
   "execution_count": 10,
   "id": "558dc372",
   "metadata": {
    "execution": {
     "iopub.execute_input": "2023-06-01T14:48:04.247300Z",
     "iopub.status.busy": "2023-06-01T14:48:04.246916Z",
     "iopub.status.idle": "2023-06-01T14:48:04.903892Z",
     "shell.execute_reply": "2023-06-01T14:48:04.902964Z"
    },
    "papermill": {
     "duration": 0.672702,
     "end_time": "2023-06-01T14:48:04.906117",
     "exception": false,
     "start_time": "2023-06-01T14:48:04.233415",
     "status": "completed"
    },
    "tags": []
   },
   "outputs": [
    {
     "data": {
      "text/html": [
       "<div>\n",
       "<style scoped>\n",
       "    .dataframe tbody tr th:only-of-type {\n",
       "        vertical-align: middle;\n",
       "    }\n",
       "\n",
       "    .dataframe tbody tr th {\n",
       "        vertical-align: top;\n",
       "    }\n",
       "\n",
       "    .dataframe thead th {\n",
       "        text-align: right;\n",
       "    }\n",
       "</style>\n",
       "<table border=\"1\" class=\"dataframe\">\n",
       "  <thead>\n",
       "    <tr style=\"text-align: right;\">\n",
       "      <th></th>\n",
       "      <th>Flow Duration</th>\n",
       "      <th>Tot Fwd Pkts</th>\n",
       "      <th>Tot Bwd Pkts</th>\n",
       "      <th>TotLen Fwd Pkts</th>\n",
       "      <th>TotLen Bwd Pkts</th>\n",
       "      <th>Fwd Pkt Len Max</th>\n",
       "      <th>Fwd Pkt Len Min</th>\n",
       "      <th>Fwd Pkt Len Mean</th>\n",
       "      <th>Fwd Pkt Len Std</th>\n",
       "      <th>Bwd Pkt Len Max</th>\n",
       "      <th>...</th>\n",
       "      <th>Fwd Seg Size Min</th>\n",
       "      <th>Active Mean</th>\n",
       "      <th>Active Std</th>\n",
       "      <th>Active Max</th>\n",
       "      <th>Active Min</th>\n",
       "      <th>Idle Mean</th>\n",
       "      <th>Idle Std</th>\n",
       "      <th>Idle Max</th>\n",
       "      <th>Idle Min</th>\n",
       "      <th>Label</th>\n",
       "    </tr>\n",
       "  </thead>\n",
       "  <tbody>\n",
       "  </tbody>\n",
       "</table>\n",
       "<p>0 rows × 77 columns</p>\n",
       "</div>"
      ],
      "text/plain": [
       "Empty DataFrame\n",
       "Columns: [Flow Duration, Tot Fwd Pkts, Tot Bwd Pkts, TotLen Fwd Pkts, TotLen Bwd Pkts, Fwd Pkt Len Max, Fwd Pkt Len Min, Fwd Pkt Len Mean, Fwd Pkt Len Std, Bwd Pkt Len Max, Bwd Pkt Len Min, Bwd Pkt Len Mean, Bwd Pkt Len Std, Flow Byts/s, Flow Pkts/s, Flow IAT Mean, Flow IAT Std, Flow IAT Max, Flow IAT Min, Fwd IAT Tot, Fwd IAT Mean, Fwd IAT Std, Fwd IAT Max, Fwd IAT Min, Bwd IAT Tot, Bwd IAT Mean, Bwd IAT Std, Bwd IAT Max, Bwd IAT Min, Fwd PSH Flags, Bwd PSH Flags, Fwd URG Flags, Bwd URG Flags, Fwd Header Len, Bwd Header Len, Fwd Pkts/s, Bwd Pkts/s, Pkt Len Min, Pkt Len Max, Pkt Len Mean, Pkt Len Std, Pkt Len Var, FIN Flag Cnt, SYN Flag Cnt, RST Flag Cnt, PSH Flag Cnt, ACK Flag Cnt, URG Flag Cnt, CWE Flag Count, ECE Flag Cnt, Down/Up Ratio, Pkt Size Avg, Fwd Seg Size Avg, Bwd Seg Size Avg, Fwd Byts/b Avg, Fwd Pkts/b Avg, Fwd Blk Rate Avg, Bwd Byts/b Avg, Bwd Pkts/b Avg, Bwd Blk Rate Avg, Subflow Fwd Pkts, Subflow Fwd Byts, Subflow Bwd Pkts, Subflow Bwd Byts, Init Fwd Win Byts, Init Bwd Win Byts, Fwd Act Data Pkts, Fwd Seg Size Min, Active Mean, Active Std, Active Max, Active Min, Idle Mean, Idle Std, Idle Max, Idle Min, Label]\n",
       "Index: []\n",
       "\n",
       "[0 rows x 77 columns]"
      ]
     },
     "execution_count": 10,
     "metadata": {},
     "output_type": "execute_result"
    }
   ],
   "source": [
    "rows_with_header = df1[df1['Label'].str.contains('Label')]\n",
    "rows_with_header"
   ]
  },
  {
   "cell_type": "code",
   "execution_count": 11,
   "id": "445165f5",
   "metadata": {
    "execution": {
     "iopub.execute_input": "2023-06-01T14:48:04.932592Z",
     "iopub.status.busy": "2023-06-01T14:48:04.932170Z",
     "iopub.status.idle": "2023-06-01T14:48:05.895867Z",
     "shell.execute_reply": "2023-06-01T14:48:05.894460Z"
    },
    "papermill": {
     "duration": 0.980191,
     "end_time": "2023-06-01T14:48:05.898787",
     "exception": false,
     "start_time": "2023-06-01T14:48:04.918596",
     "status": "completed"
    },
    "tags": []
   },
   "outputs": [
    {
     "data": {
      "text/plain": [
       "(1048575, 77)"
      ]
     },
     "execution_count": 11,
     "metadata": {},
     "output_type": "execute_result"
    }
   ],
   "source": [
    "df1 = df1[~df1['Label'].str.contains('Label')]\n",
    "df1.shape"
   ]
  },
  {
   "cell_type": "code",
   "execution_count": 12,
   "id": "9ea13ffb",
   "metadata": {
    "execution": {
     "iopub.execute_input": "2023-06-01T14:48:05.925867Z",
     "iopub.status.busy": "2023-06-01T14:48:05.925434Z",
     "iopub.status.idle": "2023-06-01T14:48:06.644375Z",
     "shell.execute_reply": "2023-06-01T14:48:06.642763Z"
    },
    "papermill": {
     "duration": 0.737353,
     "end_time": "2023-06-01T14:48:06.648766",
     "exception": false,
     "start_time": "2023-06-01T14:48:05.911413",
     "status": "completed"
    },
    "tags": []
   },
   "outputs": [
    {
     "data": {
      "text/plain": [
       "Benign            667626\n",
       "FTP-BruteForce    193360\n",
       "SSH-Bruteforce    187589\n",
       "Name: Label, dtype: int64"
      ]
     },
     "execution_count": 12,
     "metadata": {},
     "output_type": "execute_result"
    },
    {
     "data": {
      "image/png": "[encoded data removed]",
      "text/plain": [
       "<Figure size 600x600 with 1 Axes>"
      ]
     },
     "metadata": {},
     "output_type": "display_data"
    }
   ],
   "source": [
    "Labels_in_df = df1['Label'].unique()\n",
    "df1['Label'].value_counts().plot(kind='pie',figsize=(6,6))\n",
    "df1['Label'].value_counts()"
   ]
  },
  {
   "cell_type": "code",
   "execution_count": 13,
   "id": "3f7ddada",
   "metadata": {
    "execution": {
     "iopub.execute_input": "2023-06-01T14:48:06.689418Z",
     "iopub.status.busy": "2023-06-01T14:48:06.688267Z",
     "iopub.status.idle": "2023-06-01T14:48:08.340001Z",
     "shell.execute_reply": "2023-06-01T14:48:08.338667Z"
    },
    "papermill": {
     "duration": 1.669251,
     "end_time": "2023-06-01T14:48:08.343015",
     "exception": false,
     "start_time": "2023-06-01T14:48:06.673764",
     "status": "completed"
    },
    "tags": []
   },
   "outputs": [
    {
     "data": {
      "text/plain": [
       "array([0, 1, 2])"
      ]
     },
     "execution_count": 13,
     "metadata": {},
     "output_type": "execute_result"
    }
   ],
   "source": [
    "from sklearn.preprocessing import LabelEncoder\n",
    "\n",
    "label_encoder = LabelEncoder()\n",
    "df1['Label'] = label_encoder.fit_transform(df1['Label'].values.ravel())\n",
    "df1['Label'].unique()"
   ]
  },
  {
   "cell_type": "code",
   "execution_count": 14,
   "id": "95f8597c",
   "metadata": {
    "execution": {
     "iopub.execute_input": "2023-06-01T14:48:08.384359Z",
     "iopub.status.busy": "2023-06-01T14:48:08.382939Z",
     "iopub.status.idle": "2023-06-01T14:48:09.258642Z",
     "shell.execute_reply": "2023-06-01T14:48:09.257486Z"
    },
    "papermill": {
     "duration": 0.898181,
     "end_time": "2023-06-01T14:48:09.261195",
     "exception": false,
     "start_time": "2023-06-01T14:48:08.363014",
     "status": "completed"
    },
    "tags": []
   },
   "outputs": [
    {
     "name": "stdout",
     "output_type": "stream",
     "text": [
      "droping NaN and Inf values, if any\n"
     ]
    },
    {
     "data": {
      "text/plain": [
       "(1044751, 77)"
      ]
     },
     "execution_count": 14,
     "metadata": {},
     "output_type": "execute_result"
    }
   ],
   "source": [
    "pd.options.mode.chained_assignment = None\n",
    "   \n",
    "df1.replace([np.inf, -np.inf], np.nan, inplace=True)\n",
    "df1 = df1.dropna()\n",
    "\n",
    "print('droping NaN and Inf values, if any')\n",
    "\n",
    "df1.shape"
   ]
  },
  {
   "cell_type": "code",
   "execution_count": 15,
   "id": "2c669b4e",
   "metadata": {
    "execution": {
     "iopub.execute_input": "2023-06-01T14:48:09.290645Z",
     "iopub.status.busy": "2023-06-01T14:48:09.290174Z",
     "iopub.status.idle": "2023-06-01T14:48:09.755068Z",
     "shell.execute_reply": "2023-06-01T14:48:09.753985Z"
    },
    "papermill": {
     "duration": 0.482903,
     "end_time": "2023-06-01T14:48:09.757747",
     "exception": false,
     "start_time": "2023-06-01T14:48:09.274844",
     "status": "completed"
    },
    "tags": []
   },
   "outputs": [],
   "source": [
    "X = df1.drop('Label', axis=1).values\n",
    "y = df1['Label'].values"
   ]
  },
  {
   "cell_type": "code",
   "execution_count": 16,
   "id": "fe171664",
   "metadata": {
    "execution": {
     "iopub.execute_input": "2023-06-01T14:48:09.786583Z",
     "iopub.status.busy": "2023-06-01T14:48:09.786148Z",
     "iopub.status.idle": "2023-06-01T14:48:12.244359Z",
     "shell.execute_reply": "2023-06-01T14:48:12.242985Z"
    },
    "papermill": {
     "duration": 2.475921,
     "end_time": "2023-06-01T14:48:12.247247",
     "exception": false,
     "start_time": "2023-06-01T14:48:09.771326",
     "status": "completed"
    },
    "tags": []
   },
   "outputs": [],
   "source": [
    "from sklearn.preprocessing import RobustScaler\n",
    "scaler = RobustScaler()\n",
    "X_scaled = scaler.fit_transform(X)"
   ]
  },
  {
   "cell_type": "code",
   "execution_count": 17,
   "id": "dd7b8887",
   "metadata": {
    "execution": {
     "iopub.execute_input": "2023-06-01T14:48:12.276433Z",
     "iopub.status.busy": "2023-06-01T14:48:12.275886Z",
     "iopub.status.idle": "2023-06-01T14:48:21.782604Z",
     "shell.execute_reply": "2023-06-01T14:48:21.781422Z"
    },
    "papermill": {
     "duration": 9.524465,
     "end_time": "2023-06-01T14:48:21.785261",
     "exception": false,
     "start_time": "2023-06-01T14:48:12.260796",
     "status": "completed"
    },
    "tags": []
   },
   "outputs": [
    {
     "name": "stderr",
     "output_type": "stream",
     "text": [
      "/opt/conda/lib/python3.10/site-packages/tensorflow_io/python/ops/__init__.py:98: UserWarning: unable to load libtensorflow_io_plugins.so: unable to open file: libtensorflow_io_plugins.so, from paths: ['/opt/conda/lib/python3.10/site-packages/tensorflow_io/python/ops/libtensorflow_io_plugins.so']\n",
      "caused by: ['/opt/conda/lib/python3.10/site-packages/tensorflow_io/python/ops/libtensorflow_io_plugins.so: undefined symbol: _ZN3tsl6StatusC1EN10tensorflow5error4CodeESt17basic_string_viewIcSt11char_traitsIcEENS_14SourceLocationE']\n",
      "  warnings.warn(f\"unable to load libtensorflow_io_plugins.so: {e}\")\n",
      "/opt/conda/lib/python3.10/site-packages/tensorflow_io/python/ops/__init__.py:104: UserWarning: file system plugins are not loaded: unable to open file: libtensorflow_io.so, from paths: ['/opt/conda/lib/python3.10/site-packages/tensorflow_io/python/ops/libtensorflow_io.so']\n",
      "caused by: ['/opt/conda/lib/python3.10/site-packages/tensorflow_io/python/ops/libtensorflow_io.so: undefined symbol: _ZTVN10tensorflow13GcsFileSystemE']\n",
      "  warnings.warn(f\"file system plugins are not loaded: {e}\")\n"
     ]
    }
   ],
   "source": [
    "from tensorflow.keras.utils import to_categorical\n",
    "X_reshaped = X_scaled.reshape(X_scaled.shape[0], 1, 1, X_scaled.shape[1])\n",
    "y_categorical = to_categorical(y)"
   ]
  },
  {
   "cell_type": "code",
   "execution_count": 18,
   "id": "4ff8e61f",
   "metadata": {
    "execution": {
     "iopub.execute_input": "2023-06-01T14:48:21.814826Z",
     "iopub.status.busy": "2023-06-01T14:48:21.813901Z",
     "iopub.status.idle": "2023-06-01T14:48:23.147052Z",
     "shell.execute_reply": "2023-06-01T14:48:23.145559Z"
    },
    "papermill": {
     "duration": 1.351126,
     "end_time": "2023-06-01T14:48:23.150156",
     "exception": false,
     "start_time": "2023-06-01T14:48:21.799030",
     "status": "completed"
    },
    "tags": []
   },
   "outputs": [],
   "source": [
    "from sklearn.model_selection import train_test_split\n",
    "X_train, X_test, y_train, y_test = train_test_split(X_reshaped, y_categorical, test_size=0.3, random_state=52, shuffle=True)"
   ]
  },
  {
   "cell_type": "code",
   "execution_count": 19,
   "id": "1723a894",
   "metadata": {
    "execution": {
     "iopub.execute_input": "2023-06-01T14:48:23.181043Z",
     "iopub.status.busy": "2023-06-01T14:48:23.180615Z",
     "iopub.status.idle": "2023-06-01T14:48:23.189184Z",
     "shell.execute_reply": "2023-06-01T14:48:23.187846Z"
    },
    "papermill": {
     "duration": 0.026742,
     "end_time": "2023-06-01T14:48:23.191590",
     "exception": false,
     "start_time": "2023-06-01T14:48:23.164848",
     "status": "completed"
    },
    "tags": []
   },
   "outputs": [
    {
     "data": {
      "text/plain": [
       "(1, 1, 76, 1)"
      ]
     },
     "execution_count": 19,
     "metadata": {},
     "output_type": "execute_result"
    }
   ],
   "source": [
    "input_shape=(1, 1, X_scaled.shape[1], 1)\n",
    "input_shape"
   ]
  },
  {
   "cell_type": "code",
   "execution_count": 20,
   "id": "78cd795e",
   "metadata": {
    "execution": {
     "iopub.execute_input": "2023-06-01T14:48:23.222403Z",
     "iopub.status.busy": "2023-06-01T14:48:23.221278Z",
     "iopub.status.idle": "2023-06-01T14:48:23.227119Z",
     "shell.execute_reply": "2023-06-01T14:48:23.226064Z"
    },
    "papermill": {
     "duration": 0.02426,
     "end_time": "2023-06-01T14:48:23.229665",
     "exception": false,
     "start_time": "2023-06-01T14:48:23.205405",
     "status": "completed"
    },
    "tags": []
   },
   "outputs": [],
   "source": [
    "num_classes = len(Labels_in_df)"
   ]
  },
  {
   "cell_type": "code",
   "execution_count": 21,
   "id": "0efe7007",
   "metadata": {
    "execution": {
     "iopub.execute_input": "2023-06-01T14:48:23.259813Z",
     "iopub.status.busy": "2023-06-01T14:48:23.259382Z",
     "iopub.status.idle": "2023-06-01T14:48:24.036933Z",
     "shell.execute_reply": "2023-06-01T14:48:24.035849Z"
    },
    "papermill": {
     "duration": 0.799796,
     "end_time": "2023-06-01T14:48:24.043405",
     "exception": false,
     "start_time": "2023-06-01T14:48:23.243609",
     "status": "completed"
    },
    "tags": []
   },
   "outputs": [
    {
     "name": "stdout",
     "output_type": "stream",
     "text": [
      "Model: \"sequential\"\n",
      "_________________________________________________________________\n",
      " Layer (type)                Output Shape              Param #   \n",
      "=================================================================\n",
      " conv_lstm2d (ConvLSTM2D)    (None, 1, 1, 76, 24)      2496      \n",
      "                                                                 \n",
      " batch_normalization (BatchN  (None, 1, 1, 76, 24)     96        \n",
      " ormalization)                                                   \n",
      "                                                                 \n",
      " conv_lstm2d_1 (ConvLSTM2D)  (None, 1, 1, 76, 32)      7296      \n",
      "                                                                 \n",
      " batch_normalization_1 (Batc  (None, 1, 1, 76, 32)     128       \n",
      " hNormalization)                                                 \n",
      "                                                                 \n",
      " conv_lstm2d_2 (ConvLSTM2D)  (None, 1, 76, 32)         8320      \n",
      "                                                                 \n",
      " batch_normalization_2 (Batc  (None, 1, 76, 32)        128       \n",
      " hNormalization)                                                 \n",
      "                                                                 \n",
      " flatten (Flatten)           (None, 2432)              0         \n",
      "                                                                 \n",
      " dense (Dense)               (None, 64)                155712    \n",
      "                                                                 \n",
      " dense_1 (Dense)             (None, 3)                 195       \n",
      "                                                                 \n",
      "=================================================================\n",
      "Total params: 174,371\n",
      "Trainable params: 174,195\n",
      "Non-trainable params: 176\n",
      "_________________________________________________________________\n",
      "Model Compiled \n",
      "\n"
     ]
    }
   ],
   "source": [
    "from tensorflow.keras.models import Sequential\n",
    "from tensorflow.keras.layers import ConvLSTM2D, Flatten, Dense, BatchNormalization\n",
    "\n",
    "model = Sequential()\n",
    "model.add(ConvLSTM2D(24, (1, 1), activation='relu', input_shape=input_shape, return_sequences=True))\n",
    "model.add(BatchNormalization())\n",
    "model.add(ConvLSTM2D(32, (1, 1), activation='relu', return_sequences=True))\n",
    "model.add(BatchNormalization())\n",
    "model.add(ConvLSTM2D(32,(1, 1), activation='relu', return_sequences=False))\n",
    "model.add(BatchNormalization())\n",
    "model.add(Flatten())\n",
    "model.add(Dense(64, activation='relu'))\n",
    "model.add(Dense(num_classes, activation='softmax'))\n",
    "\n",
    "# Step 4: Compile the model\n",
    "model.compile(loss='categorical_crossentropy', optimizer='adam', metrics=['accuracy'])\n",
    "\n",
    "model.summary()\n",
    "print(f\"Model Compiled \\n\")"
   ]
  },
  {
   "cell_type": "code",
   "execution_count": 22,
   "id": "05ae1487",
   "metadata": {
    "execution": {
     "iopub.execute_input": "2023-06-01T14:48:24.078469Z",
     "iopub.status.busy": "2023-06-01T14:48:24.077742Z",
     "iopub.status.idle": "2023-06-01T16:57:23.917632Z",
     "shell.execute_reply": "2023-06-01T16:57:23.916263Z"
    },
    "papermill": {
     "duration": 7750.747822,
     "end_time": "2023-06-01T16:57:34.807765",
     "exception": false,
     "start_time": "2023-06-01T14:48:24.059943",
     "status": "completed"
    },
    "tags": []
   },
   "outputs": [
    {
     "name": "stdout",
     "output_type": "stream",
     "text": [
      "Epoch 1/10\n",
      "22854/22854 [==============================] - 785s 34ms/step - loss: 0.0018 - accuracy: 0.9997 - val_loss: 0.0010 - val_accuracy: 0.9999\n",
      "Epoch 2/10\n",
      "22854/22854 [==============================] - 755s 33ms/step - loss: 9.4017e-04 - accuracy: 0.9999 - val_loss: 5.4351e-04 - val_accuracy: 0.9999\n",
      "Epoch 3/10\n",
      "22854/22854 [==============================] - 777s 34ms/step - loss: 8.0991e-04 - accuracy: 0.9999 - val_loss: 9.6321e-04 - val_accuracy: 0.9999\n",
      "Epoch 4/10\n",
      "22854/22854 [==============================] - 769s 34ms/step - loss: 6.7012e-04 - accuracy: 0.9999 - val_loss: 8.3396e-04 - val_accuracy: 0.9999\n",
      "Epoch 5/10\n",
      "22854/22854 [==============================] - 774s 34ms/step - loss: 7.2635e-04 - accuracy: 0.9999 - val_loss: 7.5557e-04 - val_accuracy: 0.9999\n",
      "Epoch 6/10\n",
      "22854/22854 [==============================] - 771s 34ms/step - loss: 5.4519e-04 - accuracy: 0.9999 - val_loss: 6.6338e-04 - val_accuracy: 0.9999\n",
      "Epoch 7/10\n",
      "22854/22854 [==============================] - 776s 34ms/step - loss: 7.7682e-04 - accuracy: 0.9999 - val_loss: 5.6474e-04 - val_accuracy: 1.0000\n",
      "Epoch 8/10\n",
      "22854/22854 [==============================] - 784s 34ms/step - loss: 6.1582e-04 - accuracy: 0.9999 - val_loss: 6.1283e-04 - val_accuracy: 0.9999\n",
      "Epoch 9/10\n",
      "22854/22854 [==============================] - 772s 34ms/step - loss: 5.6602e-04 - accuracy: 1.0000 - val_loss: 6.3558e-04 - val_accuracy: 0.9999\n",
      "Epoch 10/10\n",
      "22854/22854 [==============================] - 777s 34ms/step - loss: 6.1339e-04 - accuracy: 0.9999 - val_loss: 7.7871e-04 - val_accuracy: 0.9999\n"
     ]
    }
   ],
   "source": [
    "history = model.fit(X_train, y_train, epochs=10, batch_size=32, validation_data=(X_test, y_test))"
   ]
  },
  {
   "cell_type": "code",
   "execution_count": 23,
   "id": "53fa5f3f",
   "metadata": {
    "execution": {
     "iopub.execute_input": "2023-06-01T16:57:56.503398Z",
     "iopub.status.busy": "2023-06-01T16:57:56.502984Z",
     "iopub.status.idle": "2023-06-01T16:57:57.163493Z",
     "shell.execute_reply": "2023-06-01T16:57:57.162219Z"
    },
    "papermill": {
     "duration": 11.534946,
     "end_time": "2023-06-01T16:57:57.166760",
     "exception": false,
     "start_time": "2023-06-01T16:57:45.631814",
     "status": "completed"
    },
    "tags": []
   },
   "outputs": [
    {
     "data": {
      "image/png": "[encoded data removed]",
      "text/plain": [
       "<Figure size 640x480 with 1 Axes>"
      ]
     },
     "metadata": {},
     "output_type": "display_data"
    },
    {
     "data": {
      "image/png": "[encoded data removed]",
      "text/plain": [
       "<Figure size 640x480 with 1 Axes>"
      ]
     },
     "metadata": {},
     "output_type": "display_data"
    }
   ],
   "source": [
    "import matplotlib.pyplot as plt\n",
    "# Plot accuracy curves\n",
    "plt.plot(history.history['accuracy'], label='Train Accuracy')\n",
    "plt.plot(history.history['val_accuracy'], label='Validation Accuracy')\n",
    "plt.title('Accuracy Curves')\n",
    "plt.xlabel('Epochs')\n",
    "plt.ylabel('Accuracy')\n",
    "plt.legend()\n",
    "plt.show()\n",
    "\n",
    "# Plot loss curves\n",
    "plt.plot(history.history['loss'], label='Train Loss')\n",
    "plt.plot(history.history['val_loss'], label='Validation Loss')\n",
    "plt.title('Loss Curves')\n",
    "plt.xlabel('Epochs')\n",
    "plt.ylabel('Loss')\n",
    "plt.legend()\n",
    "plt.show()"
   ]
  },
  {
   "cell_type": "code",
   "execution_count": 24,
   "id": "a046b9e6",
   "metadata": {
    "execution": {
     "iopub.execute_input": "2023-06-01T16:58:18.860275Z",
     "iopub.status.busy": "2023-06-01T16:58:18.859845Z",
     "iopub.status.idle": "2023-06-01T17:03:43.214093Z",
     "shell.execute_reply": "2023-06-01T17:03:43.212563Z"
    },
    "papermill": {
     "duration": 346.638144,
     "end_time": "2023-06-01T17:03:54.667310",
     "exception": false,
     "start_time": "2023-06-01T16:58:08.029166",
     "status": "completed"
    },
    "tags": []
   },
   "outputs": [
    {
     "name": "stdout",
     "output_type": "stream",
     "text": [
      "32649/32649 [==============================] - 247s 8ms/step\n",
      "Inference time: 324.3440737724304 seconds\n"
     ]
    }
   ],
   "source": [
    "import time\n",
    "\n",
    "# Perform inference and measure the time\n",
    "start_time = time.time()\n",
    "predictions = model.predict(X_reshaped)  # Replace with your own inference code\n",
    "inference_time = time.time() - start_time\n",
    "\n",
    "# Print the inference time\n",
    "print(f\"Inference time: {inference_time} seconds\")"
   ]
  },
  {
   "cell_type": "code",
   "execution_count": 25,
   "id": "4fca68f6",
   "metadata": {
    "execution": {
     "iopub.execute_input": "2023-06-01T17:04:17.508584Z",
     "iopub.status.busy": "2023-06-01T17:04:17.508142Z",
     "iopub.status.idle": "2023-06-01T17:05:37.716408Z",
     "shell.execute_reply": "2023-06-01T17:05:37.714921Z"
    },
    "papermill": {
     "duration": 91.597075,
     "end_time": "2023-06-01T17:05:37.719288",
     "exception": false,
     "start_time": "2023-06-01T17:04:06.122213",
     "status": "completed"
    },
    "tags": []
   },
   "outputs": [
    {
     "name": "stdout",
     "output_type": "stream",
     "text": [
      "9795/9795 [==============================] - 74s 8ms/step\n"
     ]
    }
   ],
   "source": [
    "import seaborn as sns\n",
    "from sklearn.metrics import confusion_matrix\n",
    "\n",
    "y_pred = model.predict(X_test)\n",
    "y_pred_classes = np.argmax(y_pred, axis=1)\n",
    "y_true_classes = np.argmax(y_test, axis=1)"
   ]
  },
  {
   "cell_type": "code",
   "execution_count": 26,
   "id": "4fea0eb2",
   "metadata": {
    "execution": {
     "iopub.execute_input": "2023-06-01T17:06:00.837543Z",
     "iopub.status.busy": "2023-06-01T17:06:00.836673Z",
     "iopub.status.idle": "2023-06-01T17:06:00.886894Z",
     "shell.execute_reply": "2023-06-01T17:06:00.885599Z"
    },
    "papermill": {
     "duration": 11.701314,
     "end_time": "2023-06-01T17:06:00.889608",
     "exception": false,
     "start_time": "2023-06-01T17:05:49.188294",
     "status": "completed"
    },
    "tags": []
   },
   "outputs": [
    {
     "data": {
      "text/plain": [
       "array([[199030,      2,      4],\n",
       "       [     0,  58027,      0],\n",
       "       [     2,     11,  56350]])"
      ]
     },
     "execution_count": 26,
     "metadata": {},
     "output_type": "execute_result"
    }
   ],
   "source": [
    "confusion_mat = confusion_matrix(y_true_classes, y_pred_classes)\n",
    "confusion_mat"
   ]
  },
  {
   "cell_type": "code",
   "execution_count": 27,
   "id": "cdcdb168",
   "metadata": {
    "execution": {
     "iopub.execute_input": "2023-06-01T17:06:23.877318Z",
     "iopub.status.busy": "2023-06-01T17:06:23.876930Z",
     "iopub.status.idle": "2023-06-01T17:06:24.589123Z",
     "shell.execute_reply": "2023-06-01T17:06:24.587853Z"
    },
    "papermill": {
     "duration": 12.232749,
     "end_time": "2023-06-01T17:06:24.592012",
     "exception": false,
     "start_time": "2023-06-01T17:06:12.359263",
     "status": "completed"
    },
    "tags": []
   },
   "outputs": [
    {
     "data": {
      "image/png": "[encoded data removed]",
      "text/plain": [
       "<Figure size 640x480 with 2 Axes>"
      ]
     },
     "metadata": {},
     "output_type": "display_data"
    },
    {
     "data": {
      "image/png": "[encoded data removed]",
      "text/plain": [
       "<Figure size 640x480 with 2 Axes>"
      ]
     },
     "metadata": {},
     "output_type": "display_data"
    }
   ],
   "source": [
    "# Convert confusion matrix to DataFrame for better visualization\n",
    "confusion_df = pd.DataFrame(confusion_mat, index=Labels_in_df, columns=Labels_in_df)\n",
    "\n",
    "# Display the confusion matrix using a heatmap\n",
    "sns.heatmap(confusion_df, annot=True, fmt='d', cmap='Blues')\n",
    "plt.title('Confusion Matrix')\n",
    "plt.xlabel('Predicted Labels')\n",
    "plt.ylabel('True Labels')\n",
    "\n",
    "# Rotate the x-axis and y-axis labels by 45 degrees\n",
    "plt.xticks(rotation=45)\n",
    "plt.yticks(rotation=45)\n",
    "\n",
    "plt.show()\n",
    "\n",
    "# Normalize the confusion matrix by row (i.e., by the number of samples in each class)\n",
    "row_sums = confusion_mat.sum(axis=1, keepdims=True)\n",
    "normalized_confusion_mat = confusion_mat / row_sums\n",
    "\n",
    "# Convert the normalized confusion matrix to a DataFrame for better visualization\n",
    "confusion_df = pd.DataFrame(normalized_confusion_mat, index=Labels_in_df, columns=Labels_in_df)\n",
    "\n",
    "# Display the confusion matrix using a heatmap\n",
    "sns.heatmap(confusion_df, annot=True, fmt='.4', cmap='Blues')\n",
    "plt.title('Confusion Matrix')\n",
    "plt.xlabel('Predicted Labels')\n",
    "plt.ylabel('True Labels')\n",
    "\n",
    "# Rotate the x-axis and y-axis labels by 45 degrees\n",
    "plt.xticks(rotation=45)\n",
    "plt.yticks(rotation=45)\n",
    "\n",
    "plt.show()"
   ]
  },
  {
   "cell_type": "code",
   "execution_count": 28,
   "id": "b2931984",
   "metadata": {
    "execution": {
     "iopub.execute_input": "2023-06-01T17:06:47.378956Z",
     "iopub.status.busy": "2023-06-01T17:06:47.378303Z",
     "iopub.status.idle": "2023-06-01T17:06:47.829166Z",
     "shell.execute_reply": "2023-06-01T17:06:47.827932Z"
    },
    "papermill": {
     "duration": 11.864971,
     "end_time": "2023-06-01T17:06:47.831492",
     "exception": false,
     "start_time": "2023-06-01T17:06:35.966521",
     "status": "completed"
    },
    "tags": []
   },
   "outputs": [
    {
     "name": "stdout",
     "output_type": "stream",
     "text": [
      "Classification Report:\n",
      "              precision    recall  f1-score   support\n",
      "\n",
      "           0       1.00      1.00      1.00    199036\n",
      "           1       1.00      1.00      1.00     58027\n",
      "           2       1.00      1.00      1.00     56363\n",
      "\n",
      "    accuracy                           1.00    313426\n",
      "   macro avg       1.00      1.00      1.00    313426\n",
      "weighted avg       1.00      1.00      1.00    313426\n",
      "\n"
     ]
    }
   ],
   "source": [
    "from sklearn.metrics import classification_report\n",
    "\n",
    "report = classification_report(y_true_classes, y_pred_classes)\n",
    "print(\"Classification Report:\")\n",
    "print(report)"
   ]
  },
  {
   "cell_type": "code",
   "execution_count": 29,
   "id": "e67fe2d9",
   "metadata": {
    "execution": {
     "iopub.execute_input": "2023-06-01T17:07:10.865531Z",
     "iopub.status.busy": "2023-06-01T17:07:10.865114Z",
     "iopub.status.idle": "2023-06-01T17:07:10.877563Z",
     "shell.execute_reply": "2023-06-01T17:07:10.876389Z"
    },
    "papermill": {
     "duration": 11.422841,
     "end_time": "2023-06-01T17:07:10.880267",
     "exception": false,
     "start_time": "2023-06-01T17:06:59.457426",
     "status": "completed"
    },
    "tags": []
   },
   "outputs": [],
   "source": [
    "del df1, df"
   ]
  },
  {
   "cell_type": "code",
   "execution_count": 30,
   "id": "cf9abd98",
   "metadata": {
    "execution": {
     "iopub.execute_input": "2023-06-01T17:07:33.797516Z",
     "iopub.status.busy": "2023-06-01T17:07:33.797081Z",
     "iopub.status.idle": "2023-06-01T17:07:34.248516Z",
     "shell.execute_reply": "2023-06-01T17:07:34.247302Z"
    },
    "papermill": {
     "duration": 11.926027,
     "end_time": "2023-06-01T17:07:34.251154",
     "exception": false,
     "start_time": "2023-06-01T17:07:22.325127",
     "status": "completed"
    },
    "tags": []
   },
   "outputs": [
    {
     "data": {
      "text/plain": [
       "17745"
      ]
     },
     "execution_count": 30,
     "metadata": {},
     "output_type": "execute_result"
    }
   ],
   "source": [
    "import gc\n",
    "gc.collect()"
   ]
  }
 ],
 "metadata": {
  "kernelspec": {
   "display_name": "Python 3 (ipykernel)",
   "language": "python",
   "name": "python3"
  },
  "language_info": {
   "codemirror_mode": {
    "name": "ipython",
    "version": 3
   },
   "file_extension": ".py",
   "mimetype": "text/x-python",
   "name": "python",
   "nbconvert_exporter": "python",
   "pygments_lexer": "ipython3",
   "version": "3.11.4"
  },
  "papermill": {
   "default_parameters": {},
   "duration": 8414.312129,
   "end_time": "2023-06-01T17:07:48.891791",
   "environment_variables": {},
   "exception": null,
   "input_path": "__notebook__.ipynb",
   "output_path": "__notebook__.ipynb",
   "parameters": {},
   "start_time": "2023-06-01T14:47:34.579662",
   "version": "2.4.0"
  }
 },
 "nbformat": 4,
 "nbformat_minor": 5
}
